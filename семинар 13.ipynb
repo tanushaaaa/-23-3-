{
 "cells": [
  {
   "cell_type": "markdown",
   "id": "014dd4d9",
   "metadata": {},
   "source": [
    "1. Реализовать простейший динамический массив, поддерживающий добавление элемента в конец массива при помощи метода append(e).\n",
    "Также должны поддерживаться следующие операции:\n",
    "•\tизвлечение элемента по индексу;\n",
    "•\tустановка нового значения по индексу;\n",
    "•\tполучение текущей длины массива. "
   ]
  },
  {
   "cell_type": "code",
   "execution_count": 22,
   "id": "838e0b4f",
   "metadata": {},
   "outputs": [
    {
     "name": "stdout",
     "output_type": "stream",
     "text": [
      "Current array: [10, 20, 30]\n",
      "Element at index 1: 20\n",
      "Updated array: [10, 25, 30]\n",
      "Length of the array: 3\n"
     ]
    }
   ],
   "source": [
    "class DynamicArray:\n",
    "    def __init__(self):\n",
    "        self.array = []\n",
    "    \n",
    "    def append(self, element):\n",
    "        self.array.append(element)\n",
    "    \n",
    "    def get_element(self, index):\n",
    "        if 0 <= index < len(self.array):\n",
    "            return self.array[index]\n",
    "        else:\n",
    "            return None\n",
    "    \n",
    "    def set_element(self, index, value):\n",
    "        if 0 <= index < len(self.array):\n",
    "            self.array[index] = value\n",
    "        else:\n",
    "            raise IndexError(\"Index out of range\")\n",
    "    \n",
    "    def length(self):\n",
    "        return len(self.array)\n",
    "\n",
    "dynamic_array = DynamicArray()\n",
    "\n",
    "dynamic_array.append(10)\n",
    "dynamic_array.append(20)\n",
    "dynamic_array.append(30)\n",
    "\n",
    "print(\"Current array:\", dynamic_array.array)\n",
    "print(\"Element at index 1:\", dynamic_array.get_element(1))\n",
    "\n",
    "dynamic_array.set_element(1, 25)\n",
    "print(\"Updated array:\", dynamic_array.array)\n",
    "print(\"Length of the array:\", dynamic_array.length())\n"
   ]
  },
  {
   "cell_type": "markdown",
   "id": "16ef7eca",
   "metadata": {},
   "source": [
    "1.1. Добавить реализацию удаления элемента из любого места массива и поддержку корректного вывода массива при помощи функции print."
   ]
  },
  {
   "cell_type": "code",
   "execution_count": 24,
   "id": "a6be8e14",
   "metadata": {},
   "outputs": [
    {
     "name": "stdout",
     "output_type": "stream",
     "text": [
      "Current array: [10, 20, 30]\n",
      "Updated array after removing element at index 1: [10, 30]\n"
     ]
    }
   ],
   "source": [
    "class DynamicArray:\n",
    "    def __init__(self):\n",
    "        self.array = []\n",
    "    \n",
    "    def append(self, element):\n",
    "        self.array.append(element)\n",
    "    \n",
    "    def get_element(self, index):\n",
    "        if 0 <= index < len(self.array):\n",
    "            return self.array[index]\n",
    "        else:\n",
    "            return None\n",
    "    \n",
    "    def set_element(self, index, value):\n",
    "        if 0 <= index < len(self.array):\n",
    "            self.array[index] = value\n",
    "        else:\n",
    "            raise IndexError(\"Index out of range\")\n",
    "    \n",
    "    def remove_element(self, index):\n",
    "        if 0 <= index < len(self.array):\n",
    "            del self.array[index]\n",
    "        else:\n",
    "            raise IndexError(\"Index out of range\")\n",
    "    \n",
    "    def length(self):\n",
    "        return len(self.array)\n",
    "    \n",
    "    def __str__(self):\n",
    "        return str(self.array)\n",
    "\n",
    "dynamic_array = DynamicArray()\n",
    "\n",
    "dynamic_array.append(10)\n",
    "dynamic_array.append(20)\n",
    "dynamic_array.append(30)\n",
    "\n",
    "print(\"Current array:\", dynamic_array)\n",
    "\n",
    "dynamic_array.remove_element(1)\n",
    "print(\"Updated array after removing element at index 1:\", dynamic_array)"
   ]
  },
  {
   "cell_type": "markdown",
   "id": "8929e22b",
   "metadata": {},
   "source": [
    "2. Реализовать генератор, который возвращает значение поочередно извлекаемое из конца двух очередей (в качестве очереди используется deque из collections). Если очередь из которой извлекается элемент пуста - генератор заканчивает работу."
   ]
  },
  {
   "cell_type": "code",
   "execution_count": 23,
   "id": "b7320964",
   "metadata": {},
   "outputs": [
    {
     "name": "stdout",
     "output_type": "stream",
     "text": [
      "3\n",
      "6\n",
      "2\n",
      "5\n",
      "1\n",
      "4\n"
     ]
    }
   ],
   "source": [
    "from collections import deque\n",
    "\n",
    "def extract_from_queues(queue1, queue2):\n",
    "    while queue1 or queue2:  # Пока хотя бы одна из очередей не пуста\n",
    "        if queue1:\n",
    "            yield queue1.pop()\n",
    "        if queue2:\n",
    "            yield queue2.pop()\n",
    "\n",
    "queue1 = deque([1, 2, 3])\n",
    "queue2 = deque([4, 5, 6])\n",
    "\n",
    "gen = extract_from_queues(queue1, queue2)\n",
    "\n",
    "for value in gen:\n",
    "    print(value)"
   ]
  },
  {
   "cell_type": "markdown",
   "id": "24242731",
   "metadata": {},
   "source": [
    "3. Реализовать классы с медодом action():\n",
    "а) Класс Pump - в методе action() извлекает очередное значение из генератора и помещает значение в очередь (очередь передается в конструктор).\n",
    "b) Класс MultiAction - при вызове метода action() n раз вызывает метод action() класса, переданного в конструкторе. Число n также определяется в конструкторе.\n",
    "c) Класс MultiPump - в методе action() извлекает очередное значение из генератора и помещает значение в одну из очередей (очереди передается в конструкторе); очереди , в которые помещаются очередные значения, меняются по порядку."
   ]
  },
  {
   "cell_type": "code",
   "execution_count": 19,
   "id": "2f4dd707",
   "metadata": {},
   "outputs": [
    {
     "name": "stdout",
     "output_type": "stream",
     "text": [
      "Queue contents: [1, 2, 3]\n"
     ]
    }
   ],
   "source": [
    "from queue import Queue\n",
    "\n",
    "class Action:\n",
    "    def action(self):\n",
    "        print(\"Hello world\")\n",
    "\n",
    "class Pump(Action):\n",
    "    def __init__(self, generator, queue):\n",
    "        self.generator = generator\n",
    "        self.queue = queue\n",
    "\n",
    "    def action(self):\n",
    "        try:\n",
    "            value = next(self.generator)\n",
    "            self.queue.put(value)\n",
    "        except StopIteration:\n",
    "            print(\"Generator exhausted\")\n",
    "\n",
    "def simple_generator():\n",
    "    yield 1\n",
    "    yield 2\n",
    "    yield 3\n",
    "\n",
    "queue = Queue()\n",
    "generator = simple_generator()\n",
    "pump = Pump(generator, queue)\n",
    "\n",
    "for _ in range(3):\n",
    "    pump.action()\n",
    "\n",
    "print(\"Queue contents:\", list(queue.queue))"
   ]
  },
  {
   "cell_type": "code",
   "execution_count": 18,
   "id": "d6dfdd52",
   "metadata": {},
   "outputs": [
    {
     "name": "stdout",
     "output_type": "stream",
     "text": [
      "Hello world\n",
      "Hello world\n",
      "Hello world\n"
     ]
    }
   ],
   "source": [
    "class MultiAction:\n",
    "    def __init__(self, x, n): # x - используется для хранения экземпляра класса, который должен выполнять определенное действие, n - сколько раз нужно выполнить действие \n",
    "        self.x = x\n",
    "        self.n = n\n",
    "\n",
    "    def action(self): # вызываем функцию action() объекта x n раз.\n",
    "        for i in range(self.n): \n",
    "            self.x.action() \n",
    "\n",
    "class Action: # вызываем функцию action(), которая выводит строку \n",
    "    def action(): \n",
    "        print(\"Hello world\")\n",
    "\n",
    "multi_action = MultiAction(Action, 3) #передаем класс Action и 3 в качестве аргументов\n",
    "multi_action.action()"
   ]
  },
  {
   "cell_type": "code",
   "execution_count": 20,
   "id": "a114be39",
   "metadata": {},
   "outputs": [
    {
     "name": "stdout",
     "output_type": "stream",
     "text": [
      "Queue 1 contents: [1, 3]\n",
      "Queue 2 contents: [2]\n"
     ]
    }
   ],
   "source": [
    "from queue import Queue\n",
    "\n",
    "class Action:\n",
    "    def action(self):\n",
    "        print(\"Hello world\")\n",
    "\n",
    "class MultiPump(Action):\n",
    "    def __init__(self, generator, queues):\n",
    "        self.generator = generator\n",
    "        self.queues = queues\n",
    "        self.current_queue_index = 0\n",
    "\n",
    "    def action(self):\n",
    "        try:\n",
    "            value = next(self.generator)\n",
    "            current_queue = self.queues[self.current_queue_index]\n",
    "            current_queue.put(value)\n",
    "            self.current_queue_index = (self.current_queue_index + 1) % len(self.queues)\n",
    "        except StopIteration:\n",
    "            print(\"Generator exhausted\")\n",
    "\n",
    "# Пример использования\n",
    "def simple_generator():\n",
    "    yield 1\n",
    "    yield 2\n",
    "    yield 3\n",
    "\n",
    "queue1 = Queue()\n",
    "queue2 = Queue()\n",
    "generator = simple_generator()\n",
    "multi_pump = MultiPump(generator, [queue1, queue2])\n",
    "\n",
    "for _ in range(3):\n",
    "    multi_pump.action()\n",
    "\n",
    "print(\"Queue 1 contents:\", list(queue1.queue))\n",
    "print(\"Queue 2 contents:\", list(queue2.queue))"
   ]
  },
  {
   "cell_type": "markdown",
   "id": "20cfdbd6",
   "metadata": {},
   "source": [
    "4. При помощи GenFromQ, Pump реализовать систему опработки сообщений. Сообщения создаются генератором сообщений возвращающим случайным образорм одно из сообщений. Сообщения из трех генераторов закачиваются в три очереди при помощи классов Pump, далее при помощи GenFromQ и Pump объединяются в одну очередь и выводятся на экран (можно реализовать при помощи класса с action и вызываемого при помощи MultiPump)."
   ]
  },
  {
   "cell_type": "code",
   "execution_count": 21,
   "id": "8846e914",
   "metadata": {},
   "outputs": [
    {
     "name": "stdout",
     "output_type": "stream",
     "text": [
      "Combined Queue contents: []\n"
     ]
    }
   ],
   "source": [
    "import random\n",
    "from queue import Queue\n",
    "\n",
    "class GenFromQ:\n",
    "    def __init__(self, queue):\n",
    "        self.queue = queue\n",
    "\n",
    "    def action(self):\n",
    "        return self.queue.get()\n",
    "\n",
    "class Pump:\n",
    "    def __init__(self, generator, queue):\n",
    "        self.generator = generator\n",
    "        self.queue = queue\n",
    "\n",
    "    def action(self):\n",
    "        value = next(self.generator)\n",
    "        self.queue.put(value)\n",
    "\n",
    "class MultiPump:\n",
    "    def __init__(self, actions):\n",
    "        self.actions = actions\n",
    "\n",
    "    def action(self):\n",
    "        for action in self.actions:\n",
    "            action.action()\n",
    "\n",
    "def message_generator():\n",
    "    messages = [\"Hello\", \"Hi\", \"Hey\"]\n",
    "    while True:\n",
    "        yield random.choice(messages)\n",
    "\n",
    "# Создаем очереди и генераторы\n",
    "queue1 = Queue()\n",
    "queue2 = Queue()\n",
    "queue3 = Queue()\n",
    "\n",
    "gen1 = message_generator()\n",
    "gen2 = message_generator()\n",
    "gen3 = message_generator()\n",
    "\n",
    "# Создаем насосы для каждой очереди\n",
    "pump1 = Pump(gen1, queue1)\n",
    "pump2 = Pump(gen2, queue2)\n",
    "pump3 = Pump(gen3, queue3)\n",
    "\n",
    "# Создаем объединенную очередь\n",
    "combined_queue = Queue()\n",
    "\n",
    "# Создаем экземпляры GenFromQ для каждой из трех очередей\n",
    "gen_from_q1 = GenFromQ(queue1)\n",
    "gen_from_q2 = GenFromQ(queue2)\n",
    "gen_from_q3 = GenFromQ(queue3)\n",
    "\n",
    "# Создаем MultiPump для объединения сообщений в одну очередь\n",
    "multi_pump = MultiPump([gen_from_q1, gen_from_q2, gen_from_q3])\n",
    "\n",
    "# Помещаем сообщения в очереди\n",
    "pump1.action()\n",
    "pump2.action()\n",
    "pump3.action()\n",
    "\n",
    "# Объединяем сообщения в одну очередь и выводим на экран\n",
    "multi_pump.action()\n",
    "print(\"Combined Queue contents:\", list(combined_queue.queue))"
   ]
  }
 ],
 "metadata": {
  "kernelspec": {
   "display_name": "Python 3 (ipykernel)",
   "language": "python",
   "name": "python3"
  },
  "language_info": {
   "codemirror_mode": {
    "name": "ipython",
    "version": 3
   },
   "file_extension": ".py",
   "mimetype": "text/x-python",
   "name": "python",
   "nbconvert_exporter": "python",
   "pygments_lexer": "ipython3",
   "version": "3.11.5"
  }
 },
 "nbformat": 4,
 "nbformat_minor": 5
}
