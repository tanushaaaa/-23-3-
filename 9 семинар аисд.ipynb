{
 "cells": [
  {
   "cell_type": "markdown",
   "id": "be992981",
   "metadata": {},
   "source": [
    "9 СЕМИНАР"
   ]
  },
  {
   "cell_type": "code",
   "execution_count": 2,
   "id": "0946d0ea",
   "metadata": {},
   "outputs": [],
   "source": [
    "l1 = ['1', '123', '123', '12', '1', '123']\n",
    "l2 = [2, 4, -2, -3, 0 , 11 , 3, -1]\n",
    "\n",
    "d4 = {1: 10, 2: 20, 3: 30, 4: 40, 5: 50, 6: 60}\n",
    "d5 = {'a': 3, 'b': 4, 'c': 5, 'd': 6, 'e': 7, 'f': 8, 'g': 9}\n",
    "d6 = {'e': 20, 'f': 21, 'g': 22, 'h': 23, 'i': 24, 'j': 25, 'k': 26, 'l': 27}"
   ]
  },
  {
   "cell_type": "markdown",
   "id": "5c45f8c4",
   "metadata": {},
   "source": [
    "4.13) Используюя список l1 создать список, в котором каждый элемент списка l1 будет заменен значением длинны строки соответствующего элемента в списке l1. Использовать генераторы, решить задачу в одну строку."
   ]
  },
  {
   "cell_type": "code",
   "execution_count": 3,
   "id": "4ac2a8dc",
   "metadata": {},
   "outputs": [
    {
     "data": {
      "text/plain": [
       "[1, 3, 3, 2, 1, 3]"
      ]
     },
     "execution_count": 3,
     "metadata": {},
     "output_type": "execute_result"
    }
   ],
   "source": [
    "result = [len(item) for item in l1]\n",
    "result"
   ]
  },
  {
   "cell_type": "markdown",
   "id": "dfc3fa02",
   "metadata": {},
   "source": [
    "4.14) Подсчитать количество строк в списке l1, длина которых больше 2х. Использовать генераторы, решить задачу в одну строку."
   ]
  },
  {
   "cell_type": "code",
   "execution_count": 4,
   "id": "e8584489",
   "metadata": {},
   "outputs": [
    {
     "data": {
      "text/plain": [
       "3"
      ]
     },
     "execution_count": 4,
     "metadata": {},
     "output_type": "execute_result"
    }
   ],
   "source": [
    "res = sum(1 for item in l1 if len(item) > 2)\n",
    "res"
   ]
  },
  {
   "cell_type": "markdown",
   "id": "d3413821",
   "metadata": {},
   "source": [
    "4.15) Просуммировать произведение ключей на значения словаря d4."
   ]
  },
  {
   "cell_type": "code",
   "execution_count": 5,
   "id": "9d50ec2f",
   "metadata": {},
   "outputs": [
    {
     "data": {
      "text/plain": [
       "910"
      ]
     },
     "execution_count": 5,
     "metadata": {},
     "output_type": "execute_result"
    }
   ],
   "source": [
    "result = sum(key * value for key, value in d4.items())\n",
    "result"
   ]
  },
  {
   "cell_type": "markdown",
   "id": "5ccb7de6",
   "metadata": {},
   "source": [
    "4.16) На базе словаря d6 составить словарь d7 в котором нет пар ключ-значение с ключами, встречающимися в словаре d5. Использовать генераторы, решить задачу в одну строку."
   ]
  },
  {
   "cell_type": "code",
   "execution_count": 6,
   "id": "ad4e1b5e",
   "metadata": {},
   "outputs": [
    {
     "data": {
      "text/plain": [
       "{'h': 23, 'i': 24, 'j': 25, 'k': 26, 'l': 27}"
      ]
     },
     "execution_count": 6,
     "metadata": {},
     "output_type": "execute_result"
    }
   ],
   "source": [
    "d7 = {k: v for k, v in d6.items() if k not in d5}\n",
    "d7"
   ]
  },
  {
   "cell_type": "markdown",
   "id": "09bce0b1",
   "metadata": {},
   "source": [
    "4.17) Создать список, в котором все числа списка l2 умножены на их номер в списке, остальные элементы сохранены на своих местах. Использовать генераторы, решить задачу в одну строку."
   ]
  },
  {
   "cell_type": "code",
   "execution_count": 7,
   "id": "6f81bedd",
   "metadata": {},
   "outputs": [
    {
     "data": {
      "text/plain": [
       "[0, 4, -4, -9, 0, 55, 18, -7]"
      ]
     },
     "execution_count": 7,
     "metadata": {},
     "output_type": "execute_result"
    }
   ],
   "source": [
    "# isinstance сравнивает значение с заданным типом, enumerate - добавляет счетчик к каждому элементу интегрируемого объекта и возвращает перечисляемый объект. \n",
    "result = [x*i if isinstance(x, int) else x for i, x in enumerate(l2)] \n",
    "result"
   ]
  },
  {
   "cell_type": "markdown",
   "id": "94693f76",
   "metadata": {},
   "source": [
    "4.18) Создать список, в котором все отрицательные числа списка l2 исключены, остальные элементы сохранены на своих местах. Использовать генераторы, решить задачу в одну строку."
   ]
  },
  {
   "cell_type": "code",
   "execution_count": 8,
   "id": "8ad1932e",
   "metadata": {},
   "outputs": [
    {
     "data": {
      "text/plain": [
       "[2, 4, 0, 11, 3]"
      ]
     },
     "execution_count": 8,
     "metadata": {},
     "output_type": "execute_result"
    }
   ],
   "source": [
    "[i for i in l2 if i >= 0]"
   ]
  },
  {
   "cell_type": "markdown",
   "id": "5b0f4dbd",
   "metadata": {},
   "source": [
    "4.19) Создать список, в котором все отрицательные числа списка l2 заменены на их номер в списке, остальные элементы сохранены на своих местах. Использовать генераторы и тернарный оператор, решить задачу в одну строку."
   ]
  },
  {
   "cell_type": "code",
   "execution_count": 9,
   "id": "9f19369d",
   "metadata": {},
   "outputs": [
    {
     "data": {
      "text/plain": [
       "[2, 4, 2, 3, 0, 11, 3, 7]"
      ]
     },
     "execution_count": 9,
     "metadata": {},
     "output_type": "execute_result"
    }
   ],
   "source": [
    "[i if v < 0 else v for i, v in enumerate(l2)]"
   ]
  },
  {
   "cell_type": "markdown",
   "id": "66142077",
   "metadata": {},
   "source": [
    "5.1) Написать задокументированную функцию умножения двух чисел. Для каких типов данная функция будет возвращать практически ценный результат? Написать примеры использования этой функции."
   ]
  },
  {
   "cell_type": "code",
   "execution_count": 10,
   "id": "409c2f15",
   "metadata": {},
   "outputs": [
    {
     "data": {
      "text/plain": [
       "15"
      ]
     },
     "execution_count": 10,
     "metadata": {},
     "output_type": "execute_result"
    }
   ],
   "source": [
    "def multiply(x, y):\n",
    "    return x * y\n",
    "\n",
    "result1 = multiply(5, 3) # результат: 15\n",
    "result1"
   ]
  },
  {
   "cell_type": "markdown",
   "id": "c7ca97b8",
   "metadata": {},
   "source": [
    "5.2) Написать функцию умножения принимающую от одного до трех параметров. Написать примеры использования этой функции с разным количеством параметров."
   ]
  },
  {
   "cell_type": "code",
   "execution_count": 11,
   "id": "2641be9d",
   "metadata": {},
   "outputs": [
    {
     "name": "stdout",
     "output_type": "stream",
     "text": [
      "2\n",
      "12\n",
      "24\n"
     ]
    }
   ],
   "source": [
    "def multiplication(a, b=1, c=1):\n",
    "    return a * b * c\n",
    "\n",
    "# Примеры использования функции с одним, двумя и тремя параметрами\n",
    "print(multiplication(2)) \n",
    "print(multiplication(3, 4)) \n",
    "print(multiplication(2, 3, 4)) "
   ]
  },
  {
   "cell_type": "markdown",
   "id": "2c984ded",
   "metadata": {},
   "source": [
    "5.3) Функцию из задания 2 вызвать с приведенными ниже аргументами. Для случая a4 выбрать 3 первых и 3 последних значения."
   ]
  },
  {
   "cell_type": "code",
   "execution_count": 13,
   "id": "39b01b4d",
   "metadata": {},
   "outputs": [
    {
     "name": "stdout",
     "output_type": "stream",
     "text": [
      "750\n",
      "3\n",
      "3850\n",
      "750\n",
      "3000\n"
     ]
    }
   ],
   "source": [
    "a1 = (15, 10 ,5)\n",
    "a2 = (3, 1)\n",
    "a3 = [2, 35, 55]\n",
    "a4 = (5, 10 ,15, 20)\n",
    "print(multiplication(a1[0], a1[1], a1[2]))\n",
    "print(multiplication(a2[0], a2[1]))\n",
    "print(multiplication(a3[0], a3[1], a3[2]))\n",
    "print(multiplication(a4[0], a4[1], a4[2]))\n",
    "print(multiplication(a4[1], a4[2], a4[3]))"
   ]
  },
  {
   "cell_type": "markdown",
   "id": "d72789f5",
   "metadata": {},
   "source": [
    "5.4) Реализовать функцию умножения, принимающую неограниченное количество значений. Написать примеры использования этой функции, в том числе с аргументами из задания 3."
   ]
  },
  {
   "cell_type": "code",
   "execution_count": 14,
   "id": "1f8f0024",
   "metadata": {},
   "outputs": [
    {
     "name": "stdout",
     "output_type": "stream",
     "text": [
      "750\n",
      "3\n",
      "3850\n",
      "15000\n"
     ]
    }
   ],
   "source": [
    "def multiply(*args):\n",
    "    result = 1\n",
    "    for num in args:\n",
    "        result *= num\n",
    "    return result\n",
    "\n",
    "result1 = multiply(*a1)\n",
    "print(result1)  # Вывод результата для a1\n",
    "\n",
    "result2 = multiply(*a2)\n",
    "print(result2)  # Вывод результата для a2\n",
    "\n",
    "result3 = multiply(*a3)\n",
    "print(result3)  # Вывод результата для a3\n",
    "\n",
    "result4 = multiply(*a4)\n",
    "print(result4)  # Вывод результата для a4"
   ]
  },
  {
   "cell_type": "markdown",
   "id": "803d37ad",
   "metadata": {},
   "source": [
    "5.5) Реализовать функции для выполнения четырех арифмитических операций преобразующих целые числа в целое число. Для двух заранее заданных целых чисел выполнить выбранную пользователем арифметическую операцию."
   ]
  },
  {
   "cell_type": "code",
   "execution_count": 15,
   "id": "499485ef",
   "metadata": {},
   "outputs": [
    {
     "name": "stdout",
     "output_type": "stream",
     "text": [
      "Выберите операцию (+, -, *, /): +\n",
      "Введите первое целое число: 1\n",
      "Введите второе целое число: 3\n",
      "Результат: 4\n"
     ]
    }
   ],
   "source": [
    "def addition(a, b):\n",
    "    return a + b\n",
    "\n",
    "def subtraction(a, b):\n",
    "    return a - b\n",
    "\n",
    "def multiplication(a, b):\n",
    "    return a * b\n",
    "\n",
    "def division(a, b):\n",
    "    if b != 0:\n",
    "        return a / b\n",
    "    else:\n",
    "        return \"Ошибка: деление на ноль\"\n",
    "\n",
    "# Выбор пользователем операции\n",
    "operation = input(\"Выберите операцию (+, -, *, /): \")\n",
    "\n",
    "# Ввод двух чисел\n",
    "num1 = int(input(\"Введите первое целое число: \"))\n",
    "num2 = int(input(\"Введите второе целое число: \"))\n",
    "\n",
    "# Выполнение выбранной операции\n",
    "if operation == '+':\n",
    "    result = addition(num1, num2)\n",
    "elif operation == '-':\n",
    "    result = subtraction(num1, num2)\n",
    "elif operation == '*':\n",
    "    result = multiplication(num1, num2)\n",
    "elif operation == '/':\n",
    "    result = division(num1, num2)\n",
    "else:\n",
    "    result = \"Неправильный ввод операции\"\n",
    "\n",
    "print(\"Результат:\", result)"
   ]
  }
 ],
 "metadata": {
  "kernelspec": {
   "display_name": "Python 3 (ipykernel)",
   "language": "python",
   "name": "python3"
  },
  "language_info": {
   "codemirror_mode": {
    "name": "ipython",
    "version": 3
   },
   "file_extension": ".py",
   "mimetype": "text/x-python",
   "name": "python",
   "nbconvert_exporter": "python",
   "pygments_lexer": "ipython3",
   "version": "3.11.5"
  }
 },
 "nbformat": 4,
 "nbformat_minor": 5
}
