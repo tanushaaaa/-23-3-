{
 "cells": [
  {
   "cell_type": "markdown",
   "metadata": {},
   "source": [
    "### Контрольная работа № 1.\n",
    "### Вариант 1.\n",
    "#### Студент Ли Татьяна группа ИД23-3"
   ]
  },
  {
   "cell_type": "markdown",
   "metadata": {},
   "source": [
    "1. Создайте класс Length (Длина), имеющий свойства\n",
    "\n",
    "• value (значение),\n",
    "\n",
    "• unit (единица измерения).\n",
    "\n",
    "При изменении единицы измерения значение должно соответственно меняться. Например, при переходе от сантиметров к метрам значение должно уменьшаться в 100 раз. Допустимые значения свойства unit: ‘см’, ‘м’, ‘км’. Организуйте эту проверку. Продемонстрируйте работу с классом."
   ]
  },
  {
   "cell_type": "code",
   "execution_count": 2,
   "metadata": {},
   "outputs": [
    {
     "name": "stdout",
     "output_type": "stream",
     "text": [
      "100 см\n",
      "1.0 м\n",
      "\n",
      "2 км\n",
      "2000 м\n"
     ]
    }
   ],
   "source": [
    "# Решение 1. \n",
    "class Length:\n",
    "    def __init__(self, value, unit):\n",
    "        self.value = value\n",
    "        self.unit = unit\n",
    "    \n",
    "    def check(self):\n",
    "        if self.unit == 'см':\n",
    "            self.value /= 100\n",
    "            self.unit = 'м'\n",
    "        elif self.unit == 'см':\n",
    "            self.value /= 100000\n",
    "            self.unit = 'км'\n",
    "        elif self.unit == 'м':\n",
    "            self.value *= 100\n",
    "            self.unit = 'см'\n",
    "        elif self.unit == 'м':\n",
    "            self.value /= 1000\n",
    "            self.unit = 'км'\n",
    "        elif self.unit == 'км':\n",
    "            self.value *= 1000\n",
    "            self.unit = 'м'\n",
    "        elif self.unit == 'км':\n",
    "            self.value *= 100000\n",
    "            self.unit == 'см'\n",
    "\n",
    "    def __str__(self):\n",
    "        return f\"{self.value} {self.unit}\"\n",
    "\n",
    "\n",
    "length1 = Length(100, 'см')\n",
    "print(length1)  \n",
    "\n",
    "length1.check()\n",
    "print(length1)  \n",
    "\n",
    "print()\n",
    "\n",
    "length2 = Length(2, 'км')\n",
    "print(length2)  \n",
    "\n",
    "length2.check()\n",
    "print(length2) \n",
    "  \n"
   ]
  },
  {
   "cell_type": "markdown",
   "metadata": {},
   "source": [
    "2. Создайте класс Ведомость, имеющий\n",
    "атрибут класса:\n",
    "\n",
    "• список_дисциплин (значением является список с названиями дисциплин);\n",
    "\n",
    "свойства:\n",
    "\n",
    "• дисциплина (при задании значения проверять наличие дисциплины в атрибуте список_дисциплин),\n",
    "\n",
    "• группа;\n",
    "\n",
    "методы:\n",
    "\n",
    "• put – добавляет в ведомость информацию об оценке студента (фамилия, оценка – параметры метода). Для хранения данных внутри класса используйте словарь, в котором ключом является фамилия студента. Возможные оценки – «отлично», «хорошо», «удовл.», «неудовл.», «н/я»;\n",
    "\n",
    "• get – возвращает оценку, полученную студентом (фамилия студента – параметр метода);\n",
    "\n",
    "• change – изменяет оценку, полученную студентом (фамилия студента и новая оценка – параметры метода);\n",
    "\n",
    "• del – удаляет информацию о студенте из ведомости (фамилия студента – параметр метода);\n",
    "\n",
    "• result – возвращает кортеж из 5 чисел (количество каждого вида оценок в ведомости);\n",
    "\n",
    "• __init__ – конструктор;\n",
    "\n",
    "• __str__ – возвращает строку, содержащую заголовки (название экзамена, группа) и результаты экзамена в виде таблицы;\n",
    "\n",
    "• count – возвращает количество студентов в ведомости;\n",
    "\n",
    "• names – возвращает список фамилий, имеющихся в ведомости.\n",
    "\n",
    "Продемонстрируйте работу с классом. \n"
   ]
  },
  {
   "cell_type": "code",
   "execution_count": 29,
   "metadata": {},
   "outputs": [
    {
     "name": "stdout",
     "output_type": "stream",
     "text": [
      "Количество каждого вида оценок в ведомости: (1, 1, 1, 0, 0)\n",
      "Экзамен: Математика\n",
      "Группа: Группа 1\n",
      "\n",
      "Фамилия\t\tОценка\n",
      "Иванов\t\tотлично\n",
      "Петров\t\tхорошо\n",
      "Сидоров\t\tудовл.\n",
      "\n",
      "Количество студентов в ведомости: 3\n",
      "Список фамилий, имеющихся в ведомости: ['Иванов', 'Петров', 'Сидоров']\n"
     ]
    }
   ],
   "source": [
    "# Решение 2.\n",
    "class Statement:\n",
    "    list_disciplines = ['Математика', 'Информатика', 'Физика']\n",
    "    def __init__(self, discipline, group):\n",
    "        if discipline not in self.list_disciplines:\n",
    "            raise ValueError(\"Недопустимая дисциплина\")\n",
    "        self.discipline = discipline\n",
    "        self.group = group\n",
    "        self.statement = {}\n",
    "        \n",
    "    def put(self, surname, grade):\n",
    "        if grade not in ['отлично', 'хорошо', 'удовл.', 'неудовл.', 'н/я']:\n",
    "            raise ValueError(\"Недопустимая оценка\") \n",
    "        self.statement[surname] = grade\n",
    "    \n",
    "    def get(self, surname):\n",
    "        return self.statement.get(surname)\n",
    "    \n",
    "    def change(self, surname, new_grade):\n",
    "        if new_grade not in ['отлично', 'хорошо', 'удовл.', 'неудовл.', 'н/я']:\n",
    "            raise ValueError(\"Недопустимая оценка\")\n",
    "        if surname in self.statement:\n",
    "            self.statement[surname] = new_grade\n",
    "            \n",
    "    def __del__(self):\n",
    "        del self.statement\n",
    "        \n",
    "    def result(self):\n",
    "        otl = sum(1 for grade in self.statement.values() if grade == 'отлично')\n",
    "        good = sum(1 for grade in self.statement.values() if grade == 'хорошо')\n",
    "        udov = sum(1 for grade in self.statement.values() if grade == 'удовл.')\n",
    "        neudov = sum(1 for grade in self.statement.values() if grade == 'неудовл.')\n",
    "        n = sum(1 for grade in self.statement.values() if grade == 'н/я')\n",
    "        return (otl, good, udov, neudov, n)\n",
    "    \n",
    "    def __str__(self):\n",
    "        result_str = f\"Экзамен: {self.discipline}\\nГруппа: {self.group}\\n\\n\"\n",
    "        result_str += \"Фамилия\\t\\tОценка\\n\"\n",
    "        for surname, grade in self.statement.items():\n",
    "            result_str += f\"{surname}\\t\\t{grade}\\n\"\n",
    "        return result_str\n",
    "    \n",
    "    def count(self):\n",
    "        return len(self.statement)\n",
    "    \n",
    "    def names(self):\n",
    "        return list(self.statement.keys())\n",
    "\n",
    "vedomost = Statement('Математика', 'Группа 1')\n",
    "vedomost.put('Иванов', 'отлично')\n",
    "vedomost.put('Петров', 'хорошо')\n",
    "vedomost.put('Сидоров', 'удовл.')\n",
    "\n",
    "print(\"Количество каждого вида оценок в ведомости:\", vedomost.result())  \n",
    "print(vedomost)  \n",
    "print(\"Количество студентов в ведомости:\", vedomost.count())  \n",
    "print(\"Список фамилий, имеющихся в ведомости:\", vedomost.names())  \n",
    "    "
   ]
  },
  {
   "cell_type": "markdown",
   "metadata": {},
   "source": [
    "3. Создайте класс Заказ(Order), у которого есть свойства код_товара(code), цена(price), количество(count) и методы __init__ и __str__.\n",
    "\n",
    "Создайте 2 класса-потомка: Опт(Opt) и Розница(Retail).\n",
    "В этих классах создайте методы __init__, __str__.и сумма_заказа(summa), позволяющий узнать стоимость заказа.\n",
    "Для опта стоимость единицы товара составляет 95% от цены, а при покупке более 500 штук – 90% цены.\n",
    "В розницу стоимость единицы товара составляет 100% цены. Стоимость заказа равна произведению цены на количество. \n",
    "\n",
    "Продемонстрируйте работу с классами, создав необходимые объекты и обратившись к их свойствам и методам\n"
   ]
  },
  {
   "cell_type": "code",
   "execution_count": 11,
   "metadata": {},
   "outputs": [
    {
     "name": "stdout",
     "output_type": "stream",
     "text": [
      "Opt Order - Code: 001, Price: 100, Count: 300\n",
      "Total cost for Opt order: 28500.0\n",
      "Retail Order - Code: 002, Price: 50, Count: 10\n",
      "Total cost for Retail order: 500\n"
     ]
    }
   ],
   "source": [
    "# Решение 3.\n",
    "class Order:\n",
    "    def __init__(self, code, price, count):\n",
    "        self.code = code\n",
    "        self.price = price\n",
    "        self.count = count\n",
    "\n",
    "    def __str__(self):\n",
    "        return f\"Code: {self.code}, Price: {self.price}, Count: {self.count}\"\n",
    "\n",
    "class Opt(Order):\n",
    "    def __init__(self, code, price, count):\n",
    "        super().__init__(code, price, count)\n",
    "\n",
    "    def __str__(self):\n",
    "        return f\"Opt Order - {super().__str__()}\"\n",
    "\n",
    "    def summa(self):\n",
    "        if self.count > 500:\n",
    "            return self.price * self.count * 0.9\n",
    "        else:\n",
    "            return self.price * self.count * 0.95\n",
    "\n",
    "class Retail(Order):\n",
    "    def __init__(self, code, price, count):\n",
    "        super().__init__(code, price, count)\n",
    "\n",
    "    def __str__(self):\n",
    "        return f\"Retail Order - {super().__str__()}\"\n",
    "\n",
    "    def summa(self):\n",
    "        return self.price * self.count\n",
    "\n",
    "order1 = Opt(\"001\", 100, 300)\n",
    "print(order1)\n",
    "print(\"Total cost for Opt order:\", order1.summa())\n",
    "\n",
    "order2 = Retail(\"002\", 50, 10)\n",
    "print(order2)\n",
    "print(\"Total cost for Retail order:\", order2.summa())\n"
   ]
  },
  {
   "cell_type": "markdown",
   "metadata": {},
   "source": [
    "4. Написать функцию my_func_1(lst), которая переворачивает список вложенных списков с произвольным уровнем вложенности.\n",
    "Любой элемент, не являющийся списком, не должен быть изменен.\n",
    "\n",
    "Примеры, демонстрирующие ожидаемое поведение функции:\n",
    "\n",
    "assert my_func_1(42) == 42\n",
    "\n",
    "assert my_func_1([]) == []\n",
    "\n",
    "assert my_func_1([1, 2]) == [2, 1]\n",
    "\n",
    "assert my_func_1((1, 2)) == (1, 2)\n",
    "\n",
    "assert my_func_1([[1, 2], [3, [4, 5]], 6]) == [6, [[5, 4], 3], [2, 1]]\n",
    "\n",
    "assert my_func_1(['123', '456', '789', {10: [11, 12], 13: 14}, (15, 16)]) == [(15, 16), {10: [11, 12], 13: 14}, '789', '456', '123']\n",
    "\n",
    "assert my_func_1([[[[[1, 2]]]]]) == [[[[[2, 1]]]]]"
   ]
  },
  {
   "cell_type": "code",
   "execution_count": 28,
   "metadata": {},
   "outputs": [
    {
     "name": "stdout",
     "output_type": "stream",
     "text": [
      "[(15, 16), {10: [11, 12], 13: 14}, '789', '456', '123']\n"
     ]
    }
   ],
   "source": [
    "# Решение 4.\n",
    "def my_func_1(lst):\n",
    "    if not isinstance(lst, list):  # Если элемент не является списком, вернуть его как есть\n",
    "        return lst\n",
    "    \n",
    "    reversed_lst = lst[::-1]  # Переворачиваем текущий список\n",
    "    \n",
    "    for i in range(len(reversed_lst)):\n",
    "        reversed_lst[i] = my_func_1(reversed_lst[i])  # Рекурсивно применяем функцию к каждому элементу\n",
    "    \n",
    "    return reversed_lst\n",
    "\n",
    "nested_list = ['123', '456', '789', {10: [11, 12], 13: 14}, (15, 16)]\n",
    "result = my_func_1(nested_list)\n",
    "print(result)\n"
   ]
  },
  {
   "cell_type": "markdown",
   "metadata": {},
   "source": [
    "5.При помощи механизма map/filter/reduce возвести в квадрат числа от 1 до 100, и рассчитать их сумму, не включая в сумму числа, кратные 9. Написать реализацию в одну строку."
   ]
  },
  {
   "cell_type": "code",
   "execution_count": 25,
   "metadata": {},
   "outputs": [
    {
     "data": {
      "text/plain": [
       "225589"
      ]
     },
     "execution_count": 25,
     "metadata": {},
     "output_type": "execute_result"
    }
   ],
   "source": [
    "# Решение 5.\n",
    "from functools import reduce\n",
    "result = result = reduce(lambda x, y: x + y, filter(lambda x: x % 9 != 0, map(lambda x: x**2, range(1, 101))))\n",
    "result"
   ]
  },
  {
   "cell_type": "markdown",
   "metadata": {},
   "source": [
    "6.Написать декоратор с параметром my_decorator(n). Декоратор превращает функцию, возвращающую поддерживающий итерации объект (далее \"последовательность\"), в функцию-генератор. Если декорируемая функция возвращает что-то другое, а не последовательность, то декоратор должен вернуть этот результат вызова функции без изменений.\n",
    "\n",
    "Проверку объекта можно организовать при помощи условия import collections if isinstance(item, collections.Iterable)\n",
    "\n",
    "Параметром декоратора может быть целое положительное число n, тогда получившаяся функция-декоратор должна генерировать по одному значению из последовательности, повторенной n раз. Также параметр может принимать строковое значение 'inf', тогда функция-декоратор генерирует по одному значению из последовательности, повторенной бесконечное число раз (зацикливает генерирование результата).\n",
    "\n",
    "Подсказка: сначала реализовать случай со значением аргумента 'inf', а затем модифицировать для целочисленного значения аргумента."
   ]
  },
  {
   "cell_type": "code",
   "execution_count": null,
   "metadata": {},
   "outputs": [],
   "source": [
    "# Решение 6.\n"
   ]
  }
 ],
 "metadata": {
  "kernelspec": {
   "display_name": "Python 3 (ipykernel)",
   "language": "python",
   "name": "python3"
  },
  "language_info": {
   "codemirror_mode": {
    "name": "ipython",
    "version": 3
   },
   "file_extension": ".py",
   "mimetype": "text/x-python",
   "name": "python",
   "nbconvert_exporter": "python",
   "pygments_lexer": "ipython3",
   "version": "3.10.9"
  }
 },
 "nbformat": 4,
 "nbformat_minor": 4
}
