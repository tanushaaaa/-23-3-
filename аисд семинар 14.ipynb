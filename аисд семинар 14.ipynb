{
 "cells": [
  {
   "cell_type": "markdown",
   "id": "895ed70b",
   "metadata": {},
   "source": [
    "10) Написать 4 функции порождения списка целых значений: отсортированного (по возрастанию и убыванию), случайного и почти отсортированного по возрастанию. Каждая функция принимает длину списка в качестве аргумента."
   ]
  },
  {
   "cell_type": "code",
   "execution_count": 2,
   "id": "7ed05a09",
   "metadata": {},
   "outputs": [],
   "source": [
    "from random import randint "
   ]
  },
  {
   "cell_type": "code",
   "execution_count": 6,
   "id": "5289145e",
   "metadata": {},
   "outputs": [],
   "source": [
    "def sorted_acs(n: int)-> list: # отсортированный по возрастанию \n",
    "    lst = random_values(n)\n",
    "    lst.sort()\n",
    "    return lst\n",
    "\n",
    "def sorted_desc(n: int)-> list: # отсортированный по убыванию\n",
    "    lst = random_values(n)\n",
    "    lst.sort(reverse=True)\n",
    "    return lst\n",
    "\n",
    "def random_values(n: int)-> list: #случайного \n",
    "    return[randint(0, 100) for i in range(n)]\n",
    "\n",
    "def elmost_sorted_asc(n: int)-> list: # почти отсортированного по возрастанию \n",
    "    list_nums = random_values(n)\n",
    "    swap_bool = True\n",
    "    while swap_bool:\n",
    "        swap_bool = False\n",
    "        for i in range(0, len(list_nums) - 1, 2):\n",
    "            if list_nums[i] > list_nums[i + 1]:\n",
    "                list_nums[i], list_nums[i + 1] + list_nums[i + 1], list_nums[i]\n",
    "    return list_nums"
   ]
  },
  {
   "cell_type": "code",
   "execution_count": 7,
   "id": "517a437a",
   "metadata": {},
   "outputs": [
    {
     "name": "stdout",
     "output_type": "stream",
     "text": [
      "[3, 5, 8, 22, 29, 36, 42, 43, 46, 52]\n",
      "[89, 86, 86, 69, 67, 39, 34, 26, 22, 3]\n",
      "[83, 58, 98, 49, 38, 49, 46, 50, 26, 84]\n",
      "[100, 14, 82, 55, 52, 99, 21, 39, 96, 86]\n"
     ]
    }
   ],
   "source": [
    "print(sorted_acs(10))\n",
    "print(sorted_desc(10))\n",
    "print(random_values(10))\n",
    "print(elmost_sorted_asc(10))"
   ]
  },
  {
   "cell_type": "markdown",
   "id": "53090951",
   "metadata": {},
   "source": [
    "11) Реализовать функцию тестирования алгоритма сортировки. Процедура принимает на вход алгоритм сортировки и алгоритм порождения списка f_gen(list_len), генерирующий список заданной длины, количество повтороений теста и список длин использующихся для тестирования. Для каждой длины списка функция тестирования возвращает минимальное, среднее и наибольшее количество сравнений и перестановок."
   ]
  },
  {
   "cell_type": "code",
   "execution_count": 17,
   "id": "37b9c7c9",
   "metadata": {},
   "outputs": [],
   "source": [
    "def bubble_sort(lst2)-> tuple:\n",
    "    lst = lst2.copy()\n",
    "    swaps = 0\n",
    "    compares = 0\n",
    "    n = len(lst)\n",
    "    for i in range(n - 1, 0, -1):\n",
    "        for j in range(i):\n",
    "            compares += 1\n",
    "            if lst[j] > lst[j + 1]:\n",
    "                swaps += 1\n",
    "                lst[j], lst[j + 1] = lst[j + 1], lst[j]\n",
    "    return lst, compares, swaps # отсортированный список, кол-во сравнений, кол-во перестановок"
   ]
  },
  {
   "cell_type": "code",
   "execution_count": 18,
   "id": "89a473cb",
   "metadata": {},
   "outputs": [],
   "source": [
    "from random import sample # генератор списка \n",
    "\n",
    "def gen_rand_list(lenth):\n",
    "    return sample(range(0, lenth*10), lenth)"
   ]
  },
  {
   "cell_type": "code",
   "execution_count": 19,
   "id": "cbe0fb20",
   "metadata": {},
   "outputs": [
    {
     "name": "stdout",
     "output_type": "stream",
     "text": [
      "[2, 93, 10, 31, 8, 29, 92, 74, 30, 64]\n"
     ]
    },
    {
     "data": {
      "text/plain": [
       "([2, 8, 10, 29, 30, 31, 64, 74, 92, 93], 45, 17)"
      ]
     },
     "execution_count": 19,
     "metadata": {},
     "output_type": "execute_result"
    }
   ],
   "source": [
    "# проверяем как работает генератор списка и сортировка \n",
    "generated = gen_rand_list(10)\n",
    "print(generated)\n",
    "bubble_sort(generated)"
   ]
  },
  {
   "cell_type": "code",
   "execution_count": 28,
   "id": "a35dbb00",
   "metadata": {},
   "outputs": [],
   "source": [
    "# функция тестирования сортировки \n",
    "def test_sort(sort_alg, list_generator, n, list_lens):\n",
    "    results = {}\n",
    "    \n",
    "    for lenth in list_lens:\n",
    "        comparisons = []\n",
    "        swaps = []\n",
    "        \n",
    "        for i in range(n):\n",
    "            lst = list_generator(lenth)\n",
    "            sorted_lst, n_compares, n_swaps = sort_alg(lst)\n",
    "            comparisons.append(n_compares)\n",
    "            swaps.append(n_swaps)\n",
    "            if sorted_lst != sorted(lst):\n",
    "                return None\n",
    "        \n",
    "        # минимальное, среднее, наибольшее кол-во сравнений\n",
    "        min_compares = min(comparisons)\n",
    "        max_compares = max(comparisons)\n",
    "        avg_compares = sum(comparisons) / len(comparisons)\n",
    "        # минимальное, среднее, наибольшее кол-во сравнений \n",
    "        min_swaps = min(swaps)\n",
    "        max_swaps = max(swaps)\n",
    "        avg_swaps = sum(swaps) / len(swaps)\n",
    "        \n",
    "        results[lenth] = {\"min_comp\": min_compares,\n",
    "                         \"max_comp\": max_compares,\n",
    "                          \"avg_comp\": avg_compares,\n",
    "                         \"min_swaps\": min_swaps,\n",
    "                         \"avg_swaps\": avg_swaps,\n",
    "                         \"max_swaps\": max_swaps}\n",
    "    return results"
   ]
  },
  {
   "cell_type": "code",
   "execution_count": 29,
   "id": "7ce450aa",
   "metadata": {},
   "outputs": [
    {
     "name": "stdout",
     "output_type": "stream",
     "text": [
      "10\n",
      "min_comp 45\n",
      "max_comp 45\n",
      "avg_comp 45.0\n",
      "min_swaps 11\n",
      "avg_swaps 22.7\n",
      "max_swaps 33\n",
      "\n",
      "100\n",
      "min_comp 4950\n",
      "max_comp 4950\n",
      "avg_comp 4950.0\n",
      "min_swaps 2247\n",
      "avg_swaps 2588.3\n",
      "max_swaps 2933\n",
      "\n",
      "200\n",
      "min_comp 19900\n",
      "max_comp 19900\n",
      "avg_comp 19900.0\n",
      "min_swaps 9155\n",
      "avg_swaps 9765.45\n",
      "max_swaps 10132\n",
      "\n"
     ]
    }
   ],
   "source": [
    "# вызов функции тестирования \n",
    "res = test_sort(bubble_sort, gen_rand_list, 20, [10, 100, 200])\n",
    "for lenth in res:\n",
    "    print(lenth)\n",
    "    for d in res[lenth]:\n",
    "        print(d, res[lenth][d])\n",
    "    print()"
   ]
  },
  {
   "cell_type": "markdown",
   "id": "9df1f230",
   "metadata": {},
   "source": [
    "12) Реализовать модификацию сортировки пузырьком: \"камешек-пузырек\" - с чередующимися проходами, приводящими к \"всплытию\" самого большого значения списка и \"погружению\" самого маленького значения из неотсортированной части списка."
   ]
  },
  {
   "cell_type": "code",
   "execution_count": 30,
   "id": "80dee1a7",
   "metadata": {},
   "outputs": [
    {
     "name": "stdout",
     "output_type": "stream",
     "text": [
      "[54, 26, 93, 17, 77, 31, 44, 55, 20, 65]\n",
      "[17, 20, 26, 31, 44, 54, 55, 65, 77, 93]\n"
     ]
    }
   ],
   "source": [
    "def bubble_stone(arr):\n",
    "    n = len(arr)\n",
    "    left = 0\n",
    "    right = n - 1\n",
    "    \n",
    "    while left < right:\n",
    "        for i in range(left, right):\n",
    "            if arr[i] > arr[i + 1]:\n",
    "                arr[i], arr[i + 1] = arr[i + 1], arr[i]\n",
    "        right -= 1\n",
    "        \n",
    "        for i in range(right, left, -1):\n",
    "            if arr[i] < arr[i - 1]:\n",
    "                arr[i], arr[i - 1] = arr[i - 1], arr[i]\n",
    "        left += 1\n",
    "    return arr\n",
    "\n",
    "arr = [54, 26, 93, 17, 77, 31, 44, 55, 20, 65]\n",
    "print(arr)\n",
    "sorted_arr = bubble_stone(arr)\n",
    "print(sorted_arr)"
   ]
  },
  {
   "cell_type": "markdown",
   "id": "0d2d240b",
   "metadata": {},
   "source": [
    "13) Реализовать алгоритм \"пузырек\""
   ]
  },
  {
   "cell_type": "code",
   "execution_count": 37,
   "id": "f8bbf1de",
   "metadata": {},
   "outputs": [],
   "source": [
    "test_lst = [54, 26, 93, 17, 77, 31, 44, 55, 20, 65]"
   ]
  },
  {
   "cell_type": "code",
   "execution_count": 38,
   "id": "44a24a5e",
   "metadata": {},
   "outputs": [],
   "source": [
    "def bubble_sort_2(a_list):\n",
    "    for pass_num in range(len(a_list) - 1, 0, -1):\n",
    "        flag = False\n",
    "        for i in range(pass_num):\n",
    "            if a_list[i] > a_list[i + 1]:\n",
    "                temp = a_list[i]\n",
    "                a_list[i] = a_list[i + 1]\n",
    "                a_list[i + 1] = temp\n",
    "                flag = True\n",
    "        if not flag:\n",
    "            return a_list"
   ]
  },
  {
   "cell_type": "code",
   "execution_count": 39,
   "id": "ad5892d3",
   "metadata": {},
   "outputs": [
    {
     "data": {
      "text/plain": [
       "[17, 20, 26, 31, 44, 54, 55, 65, 77, 93]"
      ]
     },
     "execution_count": 39,
     "metadata": {},
     "output_type": "execute_result"
    }
   ],
   "source": [
    "bubble_sort_2(list(test_lst))"
   ]
  },
  {
   "cell_type": "markdown",
   "id": "33bbcbe9",
   "metadata": {},
   "source": [
    "14) Протестировать алгоритм \"пузырек\" и \"камешек-пузырек\" на разных типах списков."
   ]
  },
  {
   "cell_type": "code",
   "execution_count": 44,
   "id": "5d5bede2",
   "metadata": {},
   "outputs": [
    {
     "name": "stdout",
     "output_type": "stream",
     "text": [
      "Original list: [79, 5, 22, 6, 55, 2, 60, 85, 97, 51]\n",
      "Sorted list: [2, 5, 6, 22, 51, 55, 60, 79, 85, 97]\n",
      "\n",
      "\n",
      "Original list: [30, 51, 75, 88, 80, 38, 68, 75, 69, 96]\n",
      "Sorted list: [30, 38, 51, 68, 69, 75, 75, 80, 88, 96]\n",
      "\n",
      "\n",
      "Original list: [1, 22, 25, 30, 31, 51, 57, 74, 80, 93]\n",
      "Sorted list: [1, 22, 25, 30, 31, 51, 57, 74, 80, 93]\n",
      "\n",
      "\n",
      "Original list: [6, 11, 28, 72, 73, 82, 83, 88, 91, 98]\n",
      "Sorted list: [6, 11, 28, 72, 73, 82, 83, 88, 91, 98]\n",
      "\n",
      "\n",
      "Original list: [61, 69, 91, 51, 75, 17, 86, 81, 20, 21]\n",
      "Sorted list: [17, 20, 21, 51, 61, 69, 75, 81, 86, 91]\n",
      "\n",
      "\n",
      "Original list: [57, 81, 66, 69, 95, 89, 75, 78, 13, 31]\n",
      "Sorted list: [13, 31, 57, 66, 69, 75, 78, 81, 89, 95]\n",
      "\n",
      "\n"
     ]
    }
   ],
   "source": [
    "# Функция для тестирования алгоритмов\n",
    "def test_sorting_algorithm(sort_func, list_type, list_length):\n",
    "    if list_type == \"random\":\n",
    "        test_list = random_values(list_length)  # Генерация случайного списка\n",
    "    elif list_type == \"sorted_acs\":\n",
    "        test_list = sorted_acs(list_length)  # Генерация отсортированного списка по возрастанию\n",
    "    elif list_type == \"almost_sorted\":\n",
    "        test_list = elmost_sorted_asc(list_length)  # Генерация почти отсортированного списка\n",
    "\n",
    "    print(\"Original list:\", test_list)\n",
    "\n",
    "    sorted_list = sort_func(test_list.copy())  # Создаем копию списка для сохранения оригинальных данных\n",
    "    print(\"Sorted list:\", sorted_list)\n",
    "    print(\"\\n\")\n",
    "\n",
    "# Тестирование алгоритмов\n",
    "test_sorting_algorithm(bubble_sort_2, \"random\", 10)  \n",
    "test_sorting_algorithm(bubble_stone, \"random\", 10)  \n",
    "test_sorting_algorithm(bubble_sort_2, \"sorted_acs\", 10)  \n",
    "test_sorting_algorithm(bubble_stone, \"sorted_acs\", 10)  \n",
    "test_sorting_algorithm(bubble_sort_2, \"almost_sorted\", 10)  \n",
    "test_sorting_algorithm(bubble_stone, \"almost_sorted\", 10)  \n"
   ]
  },
  {
   "cell_type": "markdown",
   "id": "b3161e1f",
   "metadata": {},
   "source": [
    "15) Реализовать модификацию сортировки выбором на основе выбора из подсписков (описанного в лекции). Протестировать алгоритм."
   ]
  },
  {
   "cell_type": "code",
   "execution_count": 45,
   "id": "6804b63f",
   "metadata": {},
   "outputs": [],
   "source": [
    "def selection_sort(a_list):\n",
    "    for fill_slot in range(len(a_list) - 1, 0, -1):\n",
    "        pos_of_max = 0\n",
    "        for location in range(1, fill_slot + 1):\n",
    "            if a_list[location] > a_list[pos_of_max]:\n",
    "                pos_of_max = location\n",
    "                \n",
    "        temp = a_list[fill_slot]\n",
    "        a_list[fill_slot] = a_list[pos_of_max]\n",
    "        a_list[pos_of_max] = temp\n",
    "    return a_list"
   ]
  },
  {
   "cell_type": "code",
   "execution_count": 46,
   "id": "d846711e",
   "metadata": {},
   "outputs": [
    {
     "data": {
      "text/plain": [
       "[54, 26, 93, 17, 77, 31, 44, 55, 20, 65]"
      ]
     },
     "execution_count": 46,
     "metadata": {},
     "output_type": "execute_result"
    }
   ],
   "source": [
    "test_list"
   ]
  },
  {
   "cell_type": "code",
   "execution_count": 47,
   "id": "45f45a62",
   "metadata": {},
   "outputs": [
    {
     "data": {
      "text/plain": [
       "[17, 20, 26, 31, 44, 54, 55, 65, 77, 93]"
      ]
     },
     "execution_count": 47,
     "metadata": {},
     "output_type": "execute_result"
    }
   ],
   "source": [
    "selection_sort(list(test_list))"
   ]
  },
  {
   "cell_type": "markdown",
   "id": "deceb23c",
   "metadata": {},
   "source": [
    "16) Реализовать быструю сортировку с возможностью подсчета операций. Сравнить производительность алгоритма на случайных и упорядоченных (и почти упорядоченных) данных"
   ]
  },
  {
   "cell_type": "code",
   "execution_count": 48,
   "id": "db5f5be5",
   "metadata": {},
   "outputs": [],
   "source": [
    "def quicksort(arr):\n",
    "    comparisons = [0]\n",
    "    swaps = [0]\n",
    "\n",
    "    def partition(arr, low, high, comparisons, swaps):\n",
    "        pivot = arr[high]\n",
    "        i = low - 1\n",
    "        for j in range(low, high):\n",
    "            comparisons[0] += 1\n",
    "            if arr[j] < pivot:\n",
    "                i += 1\n",
    "                arr[i], arr[j] = arr[j], arr[i]\n",
    "                swaps[0] += 1\n",
    "        arr[i + 1], arr[high] = arr[high], arr[i + 1]\n",
    "        swaps[0] += 1\n",
    "        return i + 1\n",
    "\n",
    "    def quicksort_helper(arr, low, high, comparisons, swaps):\n",
    "        if low < high:\n",
    "            pi = partition(arr, low, high, comparisons, swaps)\n",
    "            quicksort_helper(arr, low, pi - 1, comparisons, swaps)\n",
    "            quicksort_helper(arr, pi + 1, high, comparisons, swaps)\n",
    "\n",
    "    quicksort_helper(arr, 0, len(arr) - 1, comparisons, swaps)\n",
    "    return arr, comparisons[0], swaps[0]"
   ]
  },
  {
   "cell_type": "code",
   "execution_count": 49,
   "id": "0c329b6f",
   "metadata": {},
   "outputs": [
    {
     "name": "stdout",
     "output_type": "stream",
     "text": [
      "Original list: [73, 94, 54, 64, 44, 73, 2, 72, 25, 31]\n",
      "Sorted list: [2, 25, 31, 44, 54, 64, 72, 73, 73, 94]\n",
      "Comparisons: 24 Swaps: 11\n",
      "\n",
      "\n",
      "Original list: [4, 14, 17, 28, 32, 38, 50, 55, 91, 92]\n",
      "Sorted list: [4, 14, 17, 28, 32, 38, 50, 55, 91, 92]\n",
      "Comparisons: 45 Swaps: 54\n",
      "\n",
      "\n",
      "Original list: [55, 27, 72, 52, 7, 96, 20, 42, 16, 18]\n",
      "Sorted list: [7, 16, 18, 20, 27, 42, 52, 55, 72, 96]\n",
      "Comparisons: 23 Swaps: 17\n",
      "\n",
      "\n"
     ]
    }
   ],
   "source": [
    "# Тестирование быстрой сортировки\n",
    "def test_quicksort_performance(list_type, list_length):\n",
    "    if list_type == \"random\":\n",
    "        test_list = random_values(list_length)  # Генерация случайного списка\n",
    "    elif list_type == \"sorted_asc\":\n",
    "        test_list = sorted_acs(list_length)  # Генерация отсортированного списка\n",
    "    elif list_type == \"almost_sorted\":\n",
    "        test_list = elmost_sorted_asc(list_length)  # Генерация почти отсортированного списка\n",
    "\n",
    "    print(\"Original list:\", test_list)\n",
    "\n",
    "    sorted_list, comparisons, swaps = quicksort(test_list.copy())  # Создаем копию списка для сохранения оригинальных данных\n",
    "    print(\"Sorted list:\", sorted_list)\n",
    "    print(\"Comparisons:\", comparisons, \"Swaps:\", swaps)\n",
    "    print(\"\\n\")\n",
    "\n",
    "# Тестируем производительность быстрой сортировки\n",
    "test_quicksort_performance(\"random\", 10)  # Тестируем алгоритм на случайном списке\n",
    "test_quicksort_performance(\"sorted_asc\", 10)  # Тестируем алгоритм на отсортированном списке\n",
    "test_quicksort_performance(\"almost_sorted\", 10)  # Тестируем алгоритм на почти отсортированном списке"
   ]
  },
  {
   "cell_type": "markdown",
   "id": "e6a9040b",
   "metadata": {},
   "source": [
    "17) Улучшить работу быстрой сортировки на упорядоченных и почти упорядоченных за счет изменения алгоритма выбора элемента для разделения массива."
   ]
  },
  {
   "cell_type": "code",
   "execution_count": 50,
   "id": "3febce9a",
   "metadata": {},
   "outputs": [
    {
     "name": "stdout",
     "output_type": "stream",
     "text": [
      "Отсортированный массив:\n",
      "[1, 5, 7, 8, 9, 10]\n"
     ]
    }
   ],
   "source": [
    "# Метод оптимальной медианы \n",
    "import random\n",
    "\n",
    "def partition(arr, low, high):\n",
    "    # Выбираем опорный элемент как медиану из первого, среднего и последнего элементов\n",
    "    mid = (low + high) // 2\n",
    "    pivot_candidates = [(arr[low], low), (arr[mid], mid), (arr[high], high)]\n",
    "    pivot_value, pivot_index = sorted(pivot_candidates)[1]\n",
    "    \n",
    "    arr[pivot_index], arr[high] = arr[high], arr[pivot_index]\n",
    "    \n",
    "    i = low - 1\n",
    "    for j in range(low, high):\n",
    "        if arr[j] <= pivot_value:\n",
    "            i += 1\n",
    "            arr[i], arr[j] = arr[j], arr[i]\n",
    "    arr[i + 1], arr[high] = arr[high], arr[i + 1]\n",
    "    return i + 1\n",
    "\n",
    "def quick_sort(arr, low, high):\n",
    "    if low < high:\n",
    "        pi = partition(arr, low, high)\n",
    "        quick_sort(arr, low, pi - 1)\n",
    "        quick_sort(arr, pi + 1, high)\n",
    "\n",
    "arr = [10, 7, 8, 9, 1, 5]\n",
    "n = len(arr)\n",
    "quick_sort(arr, 0, n - 1)\n",
    "print(\"Отсортированный массив:\")\n",
    "print(arr)"
   ]
  },
  {
   "cell_type": "markdown",
   "id": "50e68935",
   "metadata": {},
   "source": [
    "18) Реализовать эффективный алгоритм получения из большого количества отсортированных списков одного отсортированного списка."
   ]
  },
  {
   "cell_type": "code",
   "execution_count": 51,
   "id": "0745c8f1",
   "metadata": {},
   "outputs": [],
   "source": [
    "def merge_sorted_lists(lists):\n",
    "    import heapq\n",
    "    heap = []\n",
    "    for i, lst in enumerate(lists):\n",
    "        if lst:\n",
    "            heapq.heappush(heap, (lst[0], i, 0))\n",
    "\n",
    "    result = []\n",
    "    while heap:\n",
    "        val, list_index, idx = heapq.heappop(heap)\n",
    "        result.append(val)\n",
    "        if idx + 1 < len(lists[list_index]):\n",
    "            next_tuple = (lists[list_index][idx + 1], list_index, idx + 1)\n",
    "            heapq.heappush(heap, next_tuple)\n",
    "\n",
    "    return result"
   ]
  },
  {
   "cell_type": "code",
   "execution_count": 52,
   "id": "c3525d31",
   "metadata": {},
   "outputs": [
    {
     "name": "stdout",
     "output_type": "stream",
     "text": [
      "[0, 1, 2, 3, 4, 5, 6, 7, 8, 9, 10, 11]\n"
     ]
    }
   ],
   "source": [
    "list1 = [1, 3, 5, 7]\n",
    "list2 = [2, 4, 6, 8]\n",
    "list3 = [0, 9, 10, 11]\n",
    "\n",
    "result = merge_sorted_lists([list1, list2, list3])\n",
    "print(result)  "
   ]
  },
  {
   "cell_type": "markdown",
   "id": "b05db40c",
   "metadata": {},
   "source": [
    "19) Модифицировать последовательность длин шагов в сортировке Шелла."
   ]
  },
  {
   "cell_type": "code",
   "execution_count": 53,
   "id": "6e6e72cd",
   "metadata": {},
   "outputs": [],
   "source": [
    "def shell_sort_modified(arr):\n",
    "    n = len(arr)\n",
    "    gap = 1\n",
    "    while gap < n // 2:\n",
    "        gap = 2 * gap + 1\n",
    "\n",
    "    while gap > 0:\n",
    "        for i in range(gap, n):\n",
    "            temp = arr[i]\n",
    "            j = i\n",
    "            while j >= gap and arr[j - gap] > temp:\n",
    "                arr[j] = arr[j - gap]\n",
    "                j -= gap\n",
    "            arr[j] = temp\n",
    "        gap = (gap - 1) // 2\n",
    "\n",
    "    return arr"
   ]
  },
  {
   "cell_type": "code",
   "execution_count": 54,
   "id": "50ea9352",
   "metadata": {},
   "outputs": [
    {
     "name": "stdout",
     "output_type": "stream",
     "text": [
      "[17, 20, 26, 31, 44, 54, 55, 65, 77, 93]\n"
     ]
    }
   ],
   "source": [
    "print(shell_sort_modified(test_list))"
   ]
  }
 ],
 "metadata": {
  "kernelspec": {
   "display_name": "Python 3 (ipykernel)",
   "language": "python",
   "name": "python3"
  },
  "language_info": {
   "codemirror_mode": {
    "name": "ipython",
    "version": 3
   },
   "file_extension": ".py",
   "mimetype": "text/x-python",
   "name": "python",
   "nbconvert_exporter": "python",
   "pygments_lexer": "ipython3",
   "version": "3.11.5"
  }
 },
 "nbformat": 4,
 "nbformat_minor": 5
}
