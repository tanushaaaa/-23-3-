{
 "cells": [
  {
   "cell_type": "markdown",
   "id": "fc9c18b5",
   "metadata": {},
   "source": [
    "а) Создать класс «Автомобиль» с полями «Марка», «Модель», «Год выпуска» и «Цвет». Создать хеш-таблицу для хранения объектов класса «Автомобиль» по ключу — номеру государственной регистрации."
   ]
  },
  {
   "cell_type": "code",
   "execution_count": 6,
   "id": "cfa84c8e",
   "metadata": {},
   "outputs": [
    {
     "name": "stdout",
     "output_type": "stream",
     "text": [
      "<__main__.Car object at 0x000002946FDF5300>\n"
     ]
    }
   ],
   "source": [
    "import hashlib\n",
    "\n",
    "class Car:\n",
    "    def __init__(self, make, model, year, color):\n",
    "        self.make = make\n",
    "        self.model = model\n",
    "        self.year = year\n",
    "        self.color = color\n",
    "\n",
    "class CarRegistry:\n",
    "    def __init__(self, size):\n",
    "        self.size = size\n",
    "        self.table = [None] * size\n",
    "\n",
    "    def hash_function(self, key): #использует хеш-функцию SHA-1 для преобразования ключа (составленного из марки, модели и года) в индекс в хеш-таблице.\n",
    "        return int(hashlib.sha1(key.encode()).hexdigest(), 16) % self.size\n",
    "\n",
    "    def insert(self, car): #вставляет автомобиль в хеш-таблицу, используя ключ и разрешая коллизии методом линейного пробирования.\n",
    "        key = car.make + car.model + str(car.year)\n",
    "        index = self.hash_function(key)\n",
    "        while self.table[index] is not None:\n",
    "            index = (index + 1) % self.size\n",
    "        self.table[index] = car\n",
    "\n",
    "    def find(self, key): #ищет автомобиль по ключу, используя тот же процесс хеширования и линейного пробирования для обхода коллизий.\n",
    "        index = self.hash_function(key)\n",
    "        while self.table[index] is not None:\n",
    "            if self.table[index].make + self.table[index].model + str(self.table[index].year) == key:\n",
    "                return self.table[index]\n",
    "            index = (index + 1) % self.size\n",
    "        return None\n",
    "\n",
    "#Создаем CarRegistry размером 10\n",
    "car_registry = CarRegistry(10)\n",
    "\n",
    "#Создайте несколько объектов автомобилей.\n",
    "car1 = Car(\"Toyota\", \"Camry\", 2020, \"Red\")\n",
    "car2 = Car(\"Honda\", \"Accord\", 2021, \"Blue\")\n",
    "car3 = Car(\"Ford\", \"Mustang\", 2019, \"Yellow\")\n",
    "\n",
    "#Вносим автомобили в реестр\n",
    "car_registry.insert(car1)\n",
    "car_registry.insert(car2)\n",
    "car_registry.insert(car3)\n",
    "\n",
    "#Найти машину по ключу\n",
    "key = \"ToyotaCamry2020\"\n",
    "found_car = car_registry.find(key)\n",
    "\n",
    "print(found_car)\n"
   ]
  },
  {
   "cell_type": "markdown",
   "id": "7ac04c4e",
   "metadata": {},
   "source": [
    "б) Написать функцию для нахождения наиболее часто встречающегося значения в хеш-таблице."
   ]
  },
  {
   "cell_type": "code",
   "execution_count": 4,
   "id": "bc298a8a",
   "metadata": {},
   "outputs": [],
   "source": [
    "def find_most_frequent(hash_table):\n",
    "    frequency = {} #для отслеживания частоты встречаемости элементов\n",
    "    for item in hash_table: #В этой части кода мы увеличиваем счетчик для каждого элемента, встреченного в hash_table.\n",
    "        if item is not None:\n",
    "            if item not in frequency:\n",
    "                frequency[item] = 0\n",
    "            frequency[item] += 1\n",
    "\n",
    "    most_frequent = None #Нахождение наиболее часто встречающегося элемента\n",
    "    max_frequency = 0\n",
    "    for item, frequency in frequency.items():\n",
    "        if frequency > max_frequency:\n",
    "            most_frequent = item\n",
    "            max_frequency = frequency\n",
    "\n",
    "    return most_frequent #Возвращение наиболее часто встречающегося элемента\n"
   ]
  },
  {
   "cell_type": "markdown",
   "id": "ef6e3299",
   "metadata": {},
   "source": [
    "в) Реализуйте хеш-таблицу для хранения информации о товарах на складе. Ключом является штрих-код товара, значение — объект, содержащий информацию о товаре (название, количество, цена и т.д.). Используйте метод разрешения коллизий методом открытой адресации с квадратичным пробированием и реализуйте возможность изменения количества товаров."
   ]
  },
  {
   "cell_type": "code",
   "execution_count": 5,
   "id": "0e6ae683",
   "metadata": {},
   "outputs": [],
   "source": [
    "class Product:\n",
    "    def __init__(self, name, quantity, price):\n",
    "        self.name = name\n",
    "        self.quantity = quantity\n",
    "        self.price = price\n",
    "\n",
    "class Warehouse: #инициализируется с заданным размером (size) и создает таблицу (список) для хранения объектов Product.\n",
    "    def __init__(self, size):\n",
    "        self.size = size\n",
    "        self.table = [None] * size\n",
    "\n",
    "    def hash_function(self, key): #использует хеш-функцию для вычисления индекса в таблице на основе имени продукта (key). Он возвращает вычисленный хеш по модулю размера таблицы.\n",
    "        return int(hashlib.sha1(key.encode()).hexdigest(), 16) % self.size\n",
    "\n",
    "    def insert(self, product): #добавляет продукт в хеш-таблицу. Он вычисляет индекс с помощью хеш-функции, а затем использует квадратичное пробирование (поиск свободной ячейки) для разрешения коллизий и вставки продукта\n",
    "        key = product.name\n",
    "        index = self.hash_function(key)\n",
    "        offset = 1\n",
    "        while self.table[index] is not None:\n",
    "            index = (index + offset**2) % self.size\n",
    "            offset += 1\n",
    "        self.table[index] = product\n",
    "\n",
    "    def find(self, key): # выполняет поиск продукта по имени (key) в хеш-таблице. Он также использует квадратичное пробирование для обхода таблицы и нахождения нужного продукта.\n",
    "\n",
    "        index = self.hash_function(key)\n",
    "        offset = 1\n",
    "        while self.table[index] is not None:\n",
    "            if self.table[index].name == key:\n",
    "                return self.table[index]\n",
    "            index = (index + offset**2) % self.size\n",
    "            offset += 1\n",
    "        return None\n",
    "\n",
    "    def update_quantity(self, key, new_quantity): #обновляет количество продукта по заданному имени (key) на новое значение new_quantity, если продукт найден в таблице.\n",
    "        product = self.find(key)\n",
    "        if product is not None:\n",
    "            product.quantity = new_quantity\n",
    "            "
   ]
  },
  {
   "cell_type": "code",
   "execution_count": null,
   "id": "c27aeb5f",
   "metadata": {},
   "outputs": [],
   "source": []
  }
 ],
 "metadata": {
  "kernelspec": {
   "display_name": "Python 3 (ipykernel)",
   "language": "python",
   "name": "python3"
  },
  "language_info": {
   "codemirror_mode": {
    "name": "ipython",
    "version": 3
   },
   "file_extension": ".py",
   "mimetype": "text/x-python",
   "name": "python",
   "nbconvert_exporter": "python",
   "pygments_lexer": "ipython3",
   "version": "3.10.9"
  }
 },
 "nbformat": 4,
 "nbformat_minor": 5
}
