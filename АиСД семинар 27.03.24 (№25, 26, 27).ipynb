{
 "cells": [
  {
   "cell_type": "markdown",
   "id": "b4236594",
   "metadata": {},
   "source": [
    "15 ВАРИАНТ"
   ]
  },
  {
   "cell_type": "markdown",
   "id": "fd1753dc",
   "metadata": {},
   "source": [
    "Класс – целочисленный вектор фиксированной размерности. Методы – сравнение двух векторов на равенство, вычисление длины вектора. Поля – размерность вектора, координаты вектора."
   ]
  },
  {
   "cell_type": "code",
   "execution_count": 1,
   "id": "1b555935",
   "metadata": {},
   "outputs": [
    {
     "name": "stdout",
     "output_type": "stream",
     "text": [
      "True\n",
      "3.7416573867739413\n"
     ]
    }
   ],
   "source": [
    "class IntegerVector:\n",
    "    def __init__(self, dimension, coordinates):\n",
    "        self.dimension = dimension\n",
    "        self.coordinates = coordinates\n",
    "\n",
    "    def compare_vectors(self, other_vector):\n",
    "        return self.coordinates == other_vector.coordinates\n",
    "\n",
    "    def calculate_length(self):\n",
    "        length = 0\n",
    "        for coord in self.coordinates:\n",
    "            length += coord ** 2\n",
    "        return length ** 0.5\n",
    "\n",
    "vector1 = IntegerVector(3, [1, 2, 3])\n",
    "vector2 = IntegerVector(3, [1, 2, 3])\n",
    "\n",
    "print(vector1.compare_vectors(vector2))  \n",
    "print(vector1.calculate_length())  "
   ]
  },
  {
   "cell_type": "markdown",
   "id": "86217340",
   "metadata": {},
   "source": [
    "Опишите класс `Window` для работы с моделями экранных окон. В качестве полей задаются координаты левого верхнего угла и размеры окна по вертикали и по горизонтали (целые числа), заголовок окна, состояние (видимое/невидимое). Включите в описание класса методы передвижения окна по горизонтали и по вертикали, изменения высоты и ширины окна с проверкой на пересечение границ экрана и свойство, позволяющее установить, является ли данное окно квадратным."
   ]
  },
  {
   "cell_type": "code",
   "execution_count": 2,
   "id": "abd6610a",
   "metadata": {},
   "outputs": [
    {
     "name": "stdout",
     "output_type": "stream",
     "text": [
      "False\n"
     ]
    }
   ],
   "source": [
    "class Window:\n",
    "    def __init__(self, x, y, width, height, title, visible):\n",
    "        self.x = x\n",
    "        self.y = y\n",
    "        self.width = width\n",
    "        self.height = height\n",
    "        self.title = title\n",
    "        self.visible = visible\n",
    "\n",
    "    def move_horizontal(self, distance):\n",
    "        new_x = self.x + distance\n",
    "        if new_x >= 0:  # Проверка на выход за границы экрана слева\n",
    "            self.x = new_x\n",
    "\n",
    "    def move_vertical(self, distance):\n",
    "        new_y = self.y + distance\n",
    "        if new_y >= 0:  # Проверка на выход за границы экрана сверху\n",
    "            self.y = new_y\n",
    "\n",
    "    def change_width(self, new_width):\n",
    "        if self.x + new_width <= screen_width:  # Проверка на пересечение правой границы экрана\n",
    "            self.width = new_width\n",
    "\n",
    "    def change_height(self, new_height):\n",
    "        if self.y + new_height <= screen_height:  # Проверка на пересечение нижней границы экрана\n",
    "            self.height = new_height\n",
    "\n",
    "    @property\n",
    "    def is_square(self):\n",
    "        return self.width == self.height\n",
    "\n",
    "screen_width = 800\n",
    "screen_height = 600\n",
    "window1 = Window(100, 100, 200, 150, \"My Window\", True)\n",
    "\n",
    "window1.move_horizontal(50)\n",
    "window1.move_vertical(-30)\n",
    "window1.change_width(180)\n",
    "window1.change_height(160)\n",
    "\n",
    "print(window1.is_square)  "
   ]
  },
  {
   "cell_type": "markdown",
   "id": "80422596",
   "metadata": {},
   "source": [
    "Создайте класс ТРАНСПОРТ с методами, позволяющими вывести на экран информацию о транспортном средстве, а также определить грузоподъемность транспортного средства. Создайте дочерние классы АВТОМОБИЛЬ (марка, номер, скорость, грузоподъемность), МОТОЦИКЛ (марка, номер, скорость, грузоподъемность, наличие коляски, при этом если коляска отсутствует, то грузоподъемность равна нулю), ГРУЗОВИК (марка, номер, скорость, грузоподъемность, наличие прицепа, при этом если есть прицеп, то грузоподъемность увеличивается в два раза) со своими методами вывода информации на экран и определения грузоподъемности. Создайте список из $n$ машин, выведите полную информацию на экран, а также организуйте поиск машин, удовлетворяющих требованиям грузоподъемности."
   ]
  },
  {
   "cell_type": "code",
   "execution_count": 3,
   "id": "e1a7359e",
   "metadata": {},
   "outputs": [
    {
     "name": "stdout",
     "output_type": "stream",
     "text": [
      "Brand: Toyota\n",
      "Number: 1234\n",
      "Speed: 120 km/h\n",
      "Capacity: 2 tons\n",
      "Brand: Harley\n",
      "Number: 5678\n",
      "Speed: 100 km/h\n",
      "Capacity: 1.5 tons\n",
      "Brand: Volvo\n",
      "Number: 9999\n",
      "Speed: 80 km/h\n",
      "Capacity: 20 tons\n",
      "\n",
      "Transport with capacity of at least 2 tons:\n",
      "Brand: Toyota\n",
      "Number: 1234\n",
      "Speed: 120 km/h\n",
      "Capacity: 2 tons\n",
      "Brand: Volvo\n",
      "Number: 9999\n",
      "Speed: 80 km/h\n",
      "Capacity: 20 tons\n"
     ]
    }
   ],
   "source": [
    "class Transport:\n",
    "    def __init__(self, brand, number, speed, capacity):\n",
    "        self.brand = brand\n",
    "        self.number = number\n",
    "        self.speed = speed\n",
    "        self.capacity = capacity\n",
    "\n",
    "    def display_info(self):\n",
    "        print(f\"Brand: {self.brand}\")\n",
    "        print(f\"Number: {self.number}\")\n",
    "        print(f\"Speed: {self.speed} km/h\")\n",
    "        print(f\"Capacity: {self.capacity} tons\")\n",
    "\n",
    "    def check_capacity(self, required_capacity):\n",
    "        return self.capacity >= required_capacity\n",
    "\n",
    "class Car(Transport):\n",
    "    def __init__(self, brand, number, speed, capacity):\n",
    "        super().__init__(brand, number, speed, capacity)\n",
    "\n",
    "class Motorcycle(Transport):\n",
    "    def __init__(self, brand, number, speed, capacity, has_sidecar):\n",
    "        if not has_sidecar:\n",
    "            capacity = 0\n",
    "        super().__init__(brand, number, speed, capacity)\n",
    "        self.has_sidecar = has_sidecar\n",
    "\n",
    "class Truck(Transport):\n",
    "    def __init__(self, brand, number, speed, capacity, has_trailer):\n",
    "        if has_trailer:\n",
    "            capacity *= 2\n",
    "        super().__init__(brand, number, speed, capacity)\n",
    "        self.has_trailer = has_trailer\n",
    "\n",
    "# Создание списка из n транспортных средств\n",
    "n = 3\n",
    "transport_list = [\n",
    "    Car(\"Toyota\", \"1234\", 120, 2),\n",
    "    Motorcycle(\"Harley\", \"5678\", 100, 1.5, True),\n",
    "    Truck(\"Volvo\", \"9999\", 80, 10, True)\n",
    "]\n",
    "\n",
    "# Вывод полной информации о транспортных средствах\n",
    "for transport in transport_list:\n",
    "    transport.display_info()\n",
    "\n",
    "# Поиск транспортных средств с грузоподъемностью не менее 2 тонн\n",
    "required_capacity = 2\n",
    "print(\"\\nTransport with capacity of at least 2 tons:\")\n",
    "for transport in transport_list:\n",
    "    if transport.check_capacity(required_capacity):\n",
    "        transport.display_info()"
   ]
  }
 ],
 "metadata": {
  "kernelspec": {
   "display_name": "Python 3 (ipykernel)",
   "language": "python",
   "name": "python3"
  },
  "language_info": {
   "codemirror_mode": {
    "name": "ipython",
    "version": 3
   },
   "file_extension": ".py",
   "mimetype": "text/x-python",
   "name": "python",
   "nbconvert_exporter": "python",
   "pygments_lexer": "ipython3",
   "version": "3.10.9"
  }
 },
 "nbformat": 4,
 "nbformat_minor": 5
}
