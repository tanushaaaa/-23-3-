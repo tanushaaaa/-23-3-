{
 "cells": [
  {
   "cell_type": "markdown",
   "id": "47001c89",
   "metadata": {},
   "source": [
    "14 ВАРИАНТ "
   ]
  },
  {
   "cell_type": "markdown",
   "id": "5c6607ff",
   "metadata": {},
   "source": [
    "№ 32. Используя модуль array и библиотеку numpy, решить следующие задачи:\n",
    "а) Дано множество  A  из  N  точек (точки заданы своими координатами  x ,  y ). Для хранения данных о каждом наборе точек следует использовать по два массива: первый массив для хранения абсцисс, второй — для хранения ординат. Среди всех точек этого множества, лежащих во второй четверти, найти точку, наиболее удаленную от начала координат. Если таких точек нет, то вывести точку с нулевыми координатами.\n",
    "б) Дана матрица размера  M×N . Элемент матрицы называется ее локальным максимумом, если он больше всех окружающих его элементов. Поменять знак всех локальных максимумов данной матрицы на противоположный."
   ]
  },
  {
   "cell_type": "code",
   "execution_count": 17,
   "id": "3ce2b037",
   "metadata": {},
   "outputs": [],
   "source": [
    "import numpy as np"
   ]
  },
  {
   "cell_type": "code",
   "execution_count": 18,
   "id": "a3685dfe",
   "metadata": {},
   "outputs": [
    {
     "name": "stdout",
     "output_type": "stream",
     "text": [
      "Наиболее удаленная от начала координат точка во второй четверти: (-6, 2)\n"
     ]
    }
   ],
   "source": [
    "#a)\n",
    "# Генерация случайных координат для точек\n",
    "N = 10\n",
    "x_coords = np.random.randint(-10, 10, N)\n",
    "y_coords = np.random.randint(-10, 10, N)\n",
    "\n",
    "# Нахождение точек во второй четверти\n",
    "second_quadrant_points = [(x, y) for x, y in zip(x_coords, y_coords) if x < 0 and y > 0]\n",
    "\n",
    "if second_quadrant_points:\n",
    "    max_distance_point = max(second_quadrant_points, key=lambda point: point[0]**2 + point[1]**2)\n",
    "    print(f\"Наиболее удаленная от начала координат точка во второй четверти: {max_distance_point}\")\n",
    "else:\n",
    "    print(\"Нет точек во второй четверти, выводим точку с нулевыми координатами: (0, 0)\")\n"
   ]
  },
  {
   "cell_type": "code",
   "execution_count": 19,
   "id": "eb35de30",
   "metadata": {},
   "outputs": [
    {
     "name": "stdout",
     "output_type": "stream",
     "text": [
      "Матрица с измененными знаками локальных максимумов:\n",
      "[[ 1  7  2  8  6]\n",
      " [ 9  8  6  8  9]\n",
      " [ 6  8  3  5  8]\n",
      " [ 6  2 -7  4  8]\n",
      " [ 5  9  5  5  3]]\n"
     ]
    }
   ],
   "source": [
    "#b)\n",
    "# Генерация случайной матрицы\n",
    "M, N = 5, 5\n",
    "matrix = np.random.randint(1, 10, (M, N))\n",
    "\n",
    "# Поиск локальных максимумов и изменение их знака\n",
    "for i in range(1, M-1):\n",
    "    for j in range(1, N-1):\n",
    "        if matrix[i,j] > matrix[i-1,j] and matrix[i,j] > matrix[i+1,j] and matrix[i,j] > matrix[i,j-1] and matrix[i,j] > matrix[i,j+1]:\n",
    "            matrix[i,j] *= -1\n",
    "\n",
    "print(\"Матрица с измененными знаками локальных максимумов:\")\n",
    "print(matrix)\n"
   ]
  },
  {
   "cell_type": "markdown",
   "id": "c8734404",
   "metadata": {},
   "source": [
    "№ 33. Дан стек. Необходимо проверить, является ли его содержимое последовательностью геометрической прогрессии."
   ]
  },
  {
   "cell_type": "code",
   "execution_count": 11,
   "id": "1e1b9048",
   "metadata": {},
   "outputs": [],
   "source": [
    "stack = [2, 4, 8, 16, 32]"
   ]
  },
  {
   "cell_type": "code",
   "execution_count": 15,
   "id": "9503e878",
   "metadata": {},
   "outputs": [
    {
     "name": "stdout",
     "output_type": "stream",
     "text": [
      "Содержимое стека является геометрической прогрессией\n"
     ]
    }
   ],
   "source": [
    "from collections import deque\n",
    "def is_geom_prog(stack):\n",
    "    if len(stack) < 2:\n",
    "        return False\n",
    "    \n",
    "    q = stack[1] / stack[0] \n",
    "    \n",
    "    for i in range(1, len(stack)-1):\n",
    "        if stack[i+1] / stack[i] != q:\n",
    "            return False\n",
    "        \n",
    "if is_geom_prog(stack):\n",
    "    print(\"Содержимое стека не является геометрической прогрессией\")\n",
    "else:\n",
    "    print(\"Содержимое стека является геометрической прогрессией\")\n",
    "        "
   ]
  },
  {
   "cell_type": "markdown",
   "id": "5e71c5e0",
   "metadata": {},
   "source": [
    "№ 34. Создать класс очереди, который будет поддерживать операции добавления элемента в конец очереди и удаления всех элементов из очереди, которые больше заданного значения"
   ]
  },
  {
   "cell_type": "code",
   "execution_count": 16,
   "id": "62c0152d",
   "metadata": {},
   "outputs": [
    {
     "name": "stdout",
     "output_type": "stream",
     "text": [
      "Очередь до удаления:\n",
      "[5, 10, 15, 20]\n",
      "Удаляем элементы больше 12:\n",
      "[5, 10]\n"
     ]
    }
   ],
   "source": [
    "class Queue:\n",
    "    def __init__(self):\n",
    "        self.queue = []\n",
    "\n",
    "    def enqueue(self, value):\n",
    "        self.queue.append(value)\n",
    "\n",
    "    def dequeue(self):\n",
    "        if not self.is_empty():\n",
    "            return self.queue.pop(0)\n",
    "        else:\n",
    "            return None\n",
    "\n",
    "    def is_empty(self):\n",
    "        return len(self.queue) == 0\n",
    "\n",
    "    def remove_greater_than(self, value):\n",
    "        self.queue = [x for x in self.queue if x <= value]\n",
    "\n",
    "    def print_queue(self):\n",
    "        print(self.queue)\n",
    "\n",
    "q = Queue()\n",
    "q.enqueue(5)\n",
    "q.enqueue(10)\n",
    "q.enqueue(15)\n",
    "q.enqueue(20)\n",
    "\n",
    "print(\"Очередь до удаления:\")\n",
    "q.print_queue()\n",
    "\n",
    "value_to_remove = 12\n",
    "q.remove_greater_than(value_to_remove)\n",
    "\n",
    "print(f\"Удаляем элементы больше {value_to_remove}:\")\n",
    "q.print_queue()\n"
   ]
  }
 ],
 "metadata": {
  "kernelspec": {
   "display_name": "Python 3 (ipykernel)",
   "language": "python",
   "name": "python3"
  },
  "language_info": {
   "codemirror_mode": {
    "name": "ipython",
    "version": 3
   },
   "file_extension": ".py",
   "mimetype": "text/x-python",
   "name": "python",
   "nbconvert_exporter": "python",
   "pygments_lexer": "ipython3",
   "version": "3.11.5"
  }
 },
 "nbformat": 4,
 "nbformat_minor": 5
}
