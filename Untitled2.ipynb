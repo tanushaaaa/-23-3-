{
  "nbformat": 4,
  "nbformat_minor": 0,
  "metadata": {
    "colab": {
      "provenance": []
    },
    "kernelspec": {
      "name": "python3",
      "display_name": "Python 3"
    },
    "language_info": {
      "name": "python"
    }
  },
  "cells": [
    {
      "cell_type": "code",
      "source": [
        "def check_brackets(expression):\n",
        "    stack = []\n",
        "    opening_bracket = '('\n",
        "    closing_bracket = ')'\n",
        "\n",
        "    for char in expression:     #Она получает целочисленное значение (код символа) и возвращает символ, который соответствует этому коду\n",
        "        if char == opening_bracket:\n",
        "            stack.append(char)\n",
        "        elif char == closing_bracket:\n",
        "            if not stack or stack[-1] != opening_bracket:\n",
        "                return False\n",
        "            stack.pop()    #pop() – удаляет самый верхний элемент\n",
        "\n",
        "    if stack:\n",
        "        return False\n",
        "    return True\n",
        "\n",
        "input_string1 = '((dsasdas((das(d)das)d)asd)da)'\n",
        "input_string2 = '(f(gfhd((hgfdg((fghh)dads)das))ds)adddads())))'\n",
        "\n",
        "print(check_brackets(input_string1))\n",
        "print(check_brackets(input_string2))"
      ],
      "metadata": {
        "id": "SM62r4HwvzOn",
        "colab": {
          "base_uri": "https://localhost:8080/"
        },
        "outputId": "70302f14-d87a-483e-e8eb-bc60111aaea6"
      },
      "execution_count": null,
      "outputs": [
        {
          "output_type": "stream",
          "name": "stdout",
          "text": [
            "True\n",
            "False\n"
          ]
        }
      ]
    },
    {
      "cell_type": "markdown",
      "source": [
        "Этот код определяет, верно ли составлены скобки в заданном выражении expression.\n",
        "\n",
        "Создается пустой стек (список stack).\n",
        "Указываются открывающая и закрывающая скобки.\n",
        "Происходит итерация по каждому символу в выражении expression.\n",
        "Если символ - открывающая скобка (, то он добавляется в стек.\n",
        "Если символ - закрывающая скобка ), то проверяется, что перед этим в стеке находится соответствующая открывающая скобка (, иначе возвращается False.\n",
        "Если после окончания итерации стек не пуст (т.е., есть открытая скобка, для которой не нашлась закрывающая), то возвращается False. В противном случае, возвращается True.\n",
        "После определения функции check_brackets, определены две строки input_string1 и input_string2.\n",
        "Для каждой строки input_string1 и input_string2 вычисляется функция check_brackets, и результат выводится на экран.\n",
        "Таким образом, код проверяет правильность расстановки скобок в строке и выводит True, если все скобки соответствуют друг другу, и False в противном случае."
      ],
      "metadata": {
        "id": "6x8aE4BfTzcR"
      }
    },
    {
      "cell_type": "code",
      "source": [
        "class Stack:\n",
        "    def __init__(self, max_length):\n",
        "        self.stack = []\n",
        "        self.max_length = max_length\n",
        "\n",
        "    def push(self, element):\n",
        "        if len(self.stack) >= self.max_length:\n",
        "            raise Exception(\"Stack overflow\")\n",
        "        self.stack.append(element)\n",
        "\n",
        "    def pop(self):\n",
        "        if not self.stack:\n",
        "            raise Exception(\"Stack is empty\")\n",
        "        return self.stack.pop()\n",
        "\n",
        "    def top(self):\n",
        "        if not self.stack:\n",
        "            raise Exception(\"Stack is empty\")\n",
        "        return self.stack[-1]\n",
        "\n",
        "    def is_empty(self):\n",
        "        return len(self.stack) == 0\n",
        "\n",
        "    def __len__(self):\n",
        "        return len(self.stack)\n",
        "\n",
        "\n",
        "s = Stack(5)\n",
        "s.push(1)\n",
        "s.push(2)\n",
        "s.push(3)\n",
        "print(s.pop())\n",
        "print(s.top())\n",
        "print(s.is_empty())\n",
        "print(len(s))"
      ],
      "metadata": {
        "id": "SFO_uIHOv_pc",
        "colab": {
          "base_uri": "https://localhost:8080/"
        },
        "outputId": "f9bd125b-c696-493a-876e-7ba5854bd295"
      },
      "execution_count": null,
      "outputs": [
        {
          "output_type": "stream",
          "name": "stdout",
          "text": [
            "3\n",
            "2\n",
            "False\n",
            "2\n"
          ]
        }
      ]
    },
    {
      "cell_type": "markdown",
      "source": [
        "Этот код представляет класс Stack для реализации стека (структуры данных Last-In-First-Out, LIFO) с использованием списков в Python.\n",
        "\n",
        "__init__: конструктор класса, который инициализирует пустой стек (self.stack) с максимальной длиной (max_length), переданной в качестве аргумента.\n",
        "\n",
        "push: метод добавления нового элемента в вершину стека. Если текущая длина стека больше или равна максимальной длине, генерируется исключение \"Stack overflow\".\n",
        "\n",
        "pop: метод удаления и возврата элемента из вершины стека. Если стек пустой, генерируется исключение \"Stack is empty\".\n",
        "\n",
        "top: метод возвращает элемент из вершины стека без его удаления. Если стек пустой, генерируется исключение \"Stack is empty\".\n",
        "\n",
        "is_empty: метод проверки стека на пустоту.\n",
        "\n",
        "__len__: метод возвращает текущую длину стека.\n",
        "\n",
        "Далее, создается экземпляр класса Stack с максимальной длиной 5, и выполняются следующие операции:\n",
        "\n",
        "Добавление элементов 1, 2 и 3 в стек.\n",
        "Удаление и возврат элемента 3 из стека с помощью метода pop.\n",
        "Получение элемента 2 из вершины стека без его удаления с помощью метода top.\n",
        "Проверка стека на пустоту с помощью метода is_empty.\n",
        "Получение текущей длины стека с помощью функции len."
      ],
      "metadata": {
        "id": "543HchCbUF-F"
      }
    },
    {
      "cell_type": "code",
      "source": [
        "class Node:\n",
        "    def __init__(self, data):\n",
        "        self.data = data\n",
        "        self.next = None\n",
        "\n",
        "class LinkedList:\n",
        "    def __init__(self):\n",
        "        self.head = None\n",
        "\n",
        "    def append(self, data):\n",
        "        new_node = Node(data)\n",
        "        if not self.head:\n",
        "            self.head = new_node\n",
        "        else:\n",
        "            last_node = self.head\n",
        "            while last_node.next:\n",
        "                last_node = last_node.next\n",
        "            last_node.next = new_node\n",
        "\n",
        "    def prepend(self, data):\n",
        "        new_node = Node(data)\n",
        "        new_node.next = self.head\n",
        "        self.head = new_node\n",
        "\n",
        "    def delete(self, data):\n",
        "        current_node = self.head\n",
        "        if current_node and current_node.data == data:\n",
        "            self.head = current_node.next\n",
        "            current_node = None\n",
        "            return\n",
        "        prev = None\n",
        "        while current_node and current_node.data != data:\n",
        "            prev = current_node\n",
        "            current_node = current_node.next\n",
        "        if current_node is None:\n",
        "            return\n",
        "        prev.next = current_node.next\n",
        "        current_node = None\n",
        "\n",
        "    def display(self):\n",
        "        current_node = self.head\n",
        "        while current_node:\n",
        "            print(current_node.data, end=' -> ')\n",
        "            current_node = current_node.next\n",
        "        print('None')\n",
        "\n",
        "\n",
        "linked_list = LinkedList()\n",
        "linked_list.append(1)\n",
        "linked_list.append(2)\n",
        "linked_list.append(3)\n",
        "linked_list.append(4)\n",
        "linked_list.display()\n",
        "\n",
        "linked_list.prepend(0)\n",
        "linked_list.display()\n",
        "linked_list.delete(2)\n",
        "linked_list.display()\n"
      ],
      "metadata": {
        "id": "btzz-xi3wKrh",
        "colab": {
          "base_uri": "https://localhost:8080/"
        },
        "outputId": "168cfd7c-3125-4db6-dca9-f42348f36345"
      },
      "execution_count": null,
      "outputs": [
        {
          "output_type": "stream",
          "name": "stdout",
          "text": [
            "1 -> 2 -> 3 -> 4 -> None\n",
            "0 -> 1 -> 2 -> 3 -> 4 -> None\n",
            "0 -> 1 -> 3 -> 4 -> None\n"
          ]
        }
      ]
    },
    {
      "cell_type": "code",
      "source": [
        "class Node:\n",
        "    def __init__(self, data):\n",
        "        self.data = data\n",
        "        self.next = None\n",
        "\n",
        "class LinkedList:\n",
        "    def __init__(self):\n",
        "        self.head = None\n",
        "\n",
        "    def append(self, data):\n",
        "        new_node = Node(data)\n",
        "        if not self.head:\n",
        "            self.head = new_node\n",
        "        else:\n",
        "            last_node = self.head\n",
        "            while last_node.next:\n",
        "                last_node = last_node.next\n",
        "            last_node.next = new_node\n",
        "\n",
        "    def prepend(self, data):\n",
        "        new_node = Node(data)\n",
        "        new_node.next = self.head\n",
        "        self.head = new_node\n",
        "\n",
        "    def delete(self, data):\n",
        "        current_node = self.head\n",
        "        if current_node and current_node.data == data:\n",
        "            self.head = current_node.next\n",
        "            current_node = None\n",
        "            return\n",
        "        prev = None\n",
        "        while current_node and current_node.data != data:\n",
        "            prev = current_node\n",
        "            current_node = current_node.next\n",
        "        if current_node is None:\n",
        "            return\n",
        "        prev.next = current_node.next\n",
        "        current_node = None\n",
        "\n",
        "    def display(self):\n",
        "        current_node = self.head\n",
        "        while current_node:\n",
        "            print(current_node.data, end=' -> ')\n",
        "            current_node = current_node.next\n",
        "        print('None')\n",
        "\n",
        "\n",
        "\n",
        "linked_list = LinkedList()\n",
        "linked_list.append(2)\n",
        "linked_list.append(3)\n",
        "linked_list.append(4)\n",
        "linked_list.display()\n",
        "\n",
        "linked_list.prepend(1)\n",
        "linked_list.display()\n"
      ],
      "metadata": {
        "id": "dP14gWpNweEC",
        "colab": {
          "base_uri": "https://localhost:8080/"
        },
        "outputId": "979f57ed-f338-4bfe-ef01-0489576eace9"
      },
      "execution_count": null,
      "outputs": [
        {
          "output_type": "stream",
          "name": "stdout",
          "text": [
            "2 -> 3 -> 4 -> None\n",
            "1 -> 2 -> 3 -> 4 -> None\n"
          ]
        }
      ]
    },
    {
      "cell_type": "code",
      "source": [
        "class Node:\n",
        "    def __init__(self, data):\n",
        "        self.data = data\n",
        "        self.next = None\n",
        "        self.prev = None\n",
        "\n",
        "class DoublyLinkedList:\n",
        "    def __init__(self):\n",
        "        self.head = None\n",
        "\n",
        "    def append(self, data):\n",
        "        new_node = Node(data)\n",
        "        if not self.head:\n",
        "            self.head = new_node\n",
        "        else:\n",
        "            last_node = self.head\n",
        "            while last_node.next:\n",
        "                last_node = last_node.next\n",
        "            last_node.next = new_node\n",
        "            new_node.prev = last_node\n",
        "\n",
        "    def prepend(self, data):\n",
        "        new_node = Node(data)\n",
        "        new_node.next = self.head\n",
        "        if self.head:\n",
        "            self.head.prev = new_node\n",
        "        self.head = new_node\n",
        "\n",
        "    def delete(self, data):\n",
        "        current_node = self.head\n",
        "        while current_node and current_node.data != data:\n",
        "            current_node = current_node.next\n",
        "        if current_node is None:\n",
        "            return\n",
        "        if current_node.prev:\n",
        "            current_node.prev.next = current_node.next\n",
        "        else:\n",
        "            self.head = current_node.next\n",
        "        if current_node.next:\n",
        "            current_node.next.prev = current_node.prev\n",
        "        current_node = None\n",
        "\n",
        "    def display(self):\n",
        "        current_node = self.head\n",
        "        while current_node:\n",
        "            print(current_node.data, end=' -> ')\n",
        "            current_node = current_node.next\n",
        "        print('None')\n",
        "\n",
        "\n",
        "\n",
        "doubly_linked_list = DoublyLinkedList()\n",
        "doubly_linked_list.append(2)\n",
        "doubly_linked_list.append(3)\n",
        "doubly_linked_list.append(4)\n",
        "doubly_linked_list.display()\n",
        "\n",
        "doubly_linked_list.prepend(1)\n",
        "doubly_linked_list.display()\n"
      ],
      "metadata": {
        "id": "pqfapAwAwwq0",
        "colab": {
          "base_uri": "https://localhost:8080/"
        },
        "outputId": "c6fe0a73-49db-4adf-87cd-7b911785ffbb"
      },
      "execution_count": null,
      "outputs": [
        {
          "output_type": "stream",
          "name": "stdout",
          "text": [
            "2 -> 3 -> 4 -> None\n",
            "1 -> 2 -> 3 -> 4 -> None\n"
          ]
        }
      ]
    },
    {
      "cell_type": "code",
      "source": [
        "class Node:\n",
        "    def __init__(self, data):\n",
        "        self.data = data\n",
        "        self.next = None\n",
        "        self.prev = None\n",
        "\n",
        "class DoublyLinkedList:\n",
        "    def __init__(self):\n",
        "        self.head = None\n",
        "\n",
        "    def append(self, data):\n",
        "        new_node = Node(data)\n",
        "        if not self.head:\n",
        "            self.head = new_node\n",
        "        else:\n",
        "            last_node = self.head\n",
        "            while last_node.next:\n",
        "                last_node = last_node.next\n",
        "            last_node.next = new_node\n",
        "            new_node.prev = last_node\n",
        "\n",
        "    def prepend(self, data):\n",
        "        new_node = Node(data)\n",
        "        new_node.next = self.head\n",
        "        if self.head:\n",
        "            self.head.prev = new_node\n",
        "        self.head = new_node\n",
        "\n",
        "    def delete(self, data):\n",
        "        current_node = self.head\n",
        "        while current_node and current_node.data != data:\n",
        "            current_node = current_node.next\n",
        "        if current_node is None:\n",
        "            return\n",
        "        if current_node.prev:\n",
        "            current_node.prev.next = current_node.next\n",
        "        else:\n",
        "            self.head = current_node.next\n",
        "        if current_node.next:\n",
        "            current_node.next.prev = current_node.prev\n",
        "        current_node = None\n",
        "\n",
        "    def display(self):\n",
        "        current_node = self.head\n",
        "        while current_node:\n",
        "            print(current_node.data, end=' -> ')\n",
        "            current_node = current_node.next\n",
        "        print('None')\n",
        "\n",
        "\n",
        "\n",
        "doubly_linked_list = DoublyLinkedList()\n",
        "doubly_linked_list.append(2)\n",
        "doubly_linked_list.append(3)\n",
        "doubly_linked_list.append(4)\n",
        "doubly_linked_list.display()\n",
        "\n",
        "doubly_linked_list.prepend(1)\n",
        "doubly_linked_list.display()\n"
      ],
      "metadata": {
        "id": "5lnfoSoexLJ0",
        "colab": {
          "base_uri": "https://localhost:8080/"
        },
        "outputId": "72cca2f1-e3d2-43b9-d0f5-d702d44c4851"
      },
      "execution_count": null,
      "outputs": [
        {
          "output_type": "stream",
          "name": "stdout",
          "text": [
            "2 -> 3 -> 4 -> None\n",
            "1 -> 2 -> 3 -> 4 -> None\n"
          ]
        }
      ]
    },
    {
      "cell_type": "code",
      "source": [
        "class Node:\n",
        "    def __init__(self, data):\n",
        "        self.data = data\n",
        "        self.next = None\n",
        "\n",
        "class Queue:\n",
        "    def __init__(self):\n",
        "        self.head = None\n",
        "        self.tail = None\n",
        "\n",
        "    def enqueue(self, data):\n",
        "        new_node = Node(data)\n",
        "        if not self.head:\n",
        "            self.head = new_node\n",
        "            self.tail = new_node\n",
        "        else:\n",
        "            self.tail.next = new_node\n",
        "            self.tail = new_node\n",
        "\n",
        "    def dequeue(self):\n",
        "        if not self.head:\n",
        "            raise ValueError(\"Queue is empty\")\n",
        "        data = self.head.data\n",
        "        self.head = self.head.next\n",
        "        if not self.head:\n",
        "            self.tail = None\n",
        "        return data\n",
        "\n",
        "    def is_empty(self):\n",
        "        return not self.head\n",
        "\n",
        "\n",
        "queue = Queue()\n",
        "queue.enqueue(1)\n",
        "queue.enqueue(2)\n",
        "queue.enqueue(3)\n",
        "\n",
        "print(queue.dequeue())\n",
        "print(queue.dequeue())\n",
        "queue.enqueue(4)\n",
        "print(queue.dequeue())\n",
        "print(queue.dequeue())\n"
      ],
      "metadata": {
        "id": "S7vKdmqPxWMG",
        "colab": {
          "base_uri": "https://localhost:8080/"
        },
        "outputId": "26822c62-6837-4091-bde8-414a79563490"
      },
      "execution_count": null,
      "outputs": [
        {
          "output_type": "stream",
          "name": "stdout",
          "text": [
            "1\n",
            "2\n",
            "3\n",
            "4\n"
          ]
        }
      ]
    }
  ]
}