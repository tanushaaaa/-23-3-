{
 "cells": [
  {
   "cell_type": "markdown",
   "id": "1cc77b33",
   "metadata": {},
   "source": [
    "14 ВАРИАНТ "
   ]
  },
  {
   "cell_type": "markdown",
   "id": "764eca26",
   "metadata": {},
   "source": [
    "а) С помощью лямбда-функции в заданном списке слов найти слова, длина которых равна шести.\n",
    "б) Найти максимальное значение в заданном гетерогенном списке с помощью лямбда-функции. Пример: ['Python', 3, 2, 4, 5, 'version'] → 5.\n",
    "в) Удалите значения None из заданного списка с помощью лямбда- функции. Пример: [12, 0, None, 23, None, -55, 234, 89, None, 0, 6, -12] → [12, 0, 23, -55, 234, 89, 0, 6, -12]."
   ]
  },
  {
   "cell_type": "code",
   "execution_count": 1,
   "id": "a5355419",
   "metadata": {},
   "outputs": [
    {
     "data": {
      "text/plain": [
       "['banana', 'orange']"
      ]
     },
     "execution_count": 1,
     "metadata": {},
     "output_type": "execute_result"
    }
   ],
   "source": [
    "words = [\"apple\", \"banana\", \"orange\", \"kiwi\", \"grape\", \"pear\"]\n",
    "result = list(filter(lambda x: len(x) == 6, words))\n",
    "result\n"
   ]
  },
  {
   "cell_type": "code",
   "execution_count": 2,
   "id": "c9f483c9",
   "metadata": {},
   "outputs": [
    {
     "data": {
      "text/plain": [
       "5"
      ]
     },
     "execution_count": 2,
     "metadata": {},
     "output_type": "execute_result"
    }
   ],
   "source": [
    "items = ['Python', 3, 2, 4, 5, 'version']\n",
    "max_value = max(filter(lambda x: isinstance(x, int), items))\n",
    "max_value\n"
   ]
  },
  {
   "cell_type": "code",
   "execution_count": 3,
   "id": "fc4c8156",
   "metadata": {},
   "outputs": [
    {
     "data": {
      "text/plain": [
       "[12, 0, 23, -55, 234, 89, 0, 6, -12]"
      ]
     },
     "execution_count": 3,
     "metadata": {},
     "output_type": "execute_result"
    }
   ],
   "source": [
    "values = [12, 0, None, 23, None, -55, 234, 89, None, 0, 6, -12]\n",
    "result = list(filter(lambda x: x is not None, values))\n",
    "result\n"
   ]
  },
  {
   "cell_type": "markdown",
   "id": "8b4ef8df",
   "metadata": {},
   "source": [
    "а) Вычислите квадраты первых  N  чисел Фибоначчи, используя функцию map(), и сгенерируйте из них список чисел. Пример: N = 10 → [0, 1, 1, 2, 3, 5, 8, 13, 21, 34] → [0, 1, 1, 4, 9, 25, 64, 169, 441, 1156].\n",
    "б) Сгенерировать список целых чисел. С помощью функции filter() выбрать из списка все двузначные числа и упорядочить эти числа по возрастанию. Используя функцию reduce(), найти их произведение."
   ]
  },
  {
   "cell_type": "code",
   "execution_count": 4,
   "id": "79940ba6",
   "metadata": {},
   "outputs": [
    {
     "data": {
      "text/plain": [
       "[0, 1, 1, 4, 9, 25, 64, 169, 441, 1156]"
      ]
     },
     "execution_count": 4,
     "metadata": {},
     "output_type": "execute_result"
    }
   ],
   "source": [
    "from functools import reduce\n",
    "\n",
    "def fibonacci(n):\n",
    "    fib = [0, 1]\n",
    "    for i in range(2, n):\n",
    "        fib.append(fib[i-1] + fib[i-2])\n",
    "    return fib\n",
    "\n",
    "N = 10\n",
    "fibonacci_numbers = fibonacci(N)\n",
    "squared_fibonacci = list(map(lambda x: x**2, fibonacci_numbers))\n",
    "squared_fibonacci\n"
   ]
  },
  {
   "cell_type": "code",
   "execution_count": 5,
   "id": "3e3d368e",
   "metadata": {},
   "outputs": [
    {
     "data": {
      "text/plain": [
       "1088887836516480"
      ]
     },
     "execution_count": 5,
     "metadata": {},
     "output_type": "execute_result"
    }
   ],
   "source": [
    "from functools import reduce\n",
    "\n",
    "numbers = [23, 45, 12, 67, 89, 34, 56, 78, 99, 100]\n",
    "two_digit_numbers = list(filter(lambda x: 10 <= x < 100, numbers))\n",
    "two_digit_numbers.sort()\n",
    "product = reduce(lambda x, y: x * y, two_digit_numbers)\n",
    "product\n"
   ]
  },
  {
   "cell_type": "markdown",
   "id": "7bce55a6",
   "metadata": {},
   "source": [
    "а) Создайте декоратор, который будет принимать аргументы и передавать их в функцию в определенном порядке.\n",
    "б) Создайте декоратор, который будет заменять значение аргумента на результат выполнения заданной функции с использованием других аргументов функции и контекста извне только если оно удовлетворяет определенному условию."
   ]
  },
  {
   "cell_type": "code",
   "execution_count": 6,
   "id": "30f1db9e",
   "metadata": {},
   "outputs": [
    {
     "name": "stdout",
     "output_type": "stream",
     "text": [
      "(1, 2, 3, 4, 5, 6)\n"
     ]
    }
   ],
   "source": [
    "def argument_decorator(*args):\n",
    "    def decorator(func):\n",
    "        def wrapper(*func_args, **func_kwargs):\n",
    "            new_args = [arg for arg in args]\n",
    "            return func(*new_args, *func_args, **func_kwargs)\n",
    "        return wrapper\n",
    "    return decorator\n",
    "\n",
    "@argument_decorator(1, 2, 3)\n",
    "def example_function(*args):\n",
    "    print(args)\n",
    "\n",
    "example_function(4, 5, 6)  \n"
   ]
  },
  {
   "cell_type": "code",
   "execution_count": 7,
   "id": "676451fa",
   "metadata": {},
   "outputs": [
    {
     "name": "stdout",
     "output_type": "stream",
     "text": [
      "3\n",
      "8\n"
     ]
    }
   ],
   "source": [
    "def replace_argument(condition_func, replacement_func):\n",
    "    def decorator(func):\n",
    "        def wrapper(*args, **kwargs):\n",
    "            new_args = []\n",
    "            for arg in args:\n",
    "                if condition_func(arg):\n",
    "                    new_args.append(replacement_func(*args, **kwargs))\n",
    "                else:\n",
    "                    new_args.append(arg)\n",
    "            return func(*new_args, **kwargs)\n",
    "        return wrapper\n",
    "    return decorator\n",
    "\n",
    "def is_even(num):\n",
    "    return num % 2 == 0\n",
    "\n",
    "def double_value(*args, **kwargs):\n",
    "    return args[0] * 2\n",
    "\n",
    "@replace_argument(is_even, double_value)\n",
    "def example_function(num):\n",
    "    return num\n",
    "\n",
    "result = example_function(3)\n",
    "print(result)  # Вывод: 3 (не изменилось, так как 3 нечетное число)\n",
    "result = example_function(4)\n",
    "print(result)  # Вывод: 8 (значение удвоилось, так как 4 - четное число)\n"
   ]
  },
  {
   "cell_type": "code",
   "execution_count": null,
   "id": "19676c79",
   "metadata": {},
   "outputs": [],
   "source": []
  }
 ],
 "metadata": {
  "kernelspec": {
   "display_name": "Python 3 (ipykernel)",
   "language": "python",
   "name": "python3"
  },
  "language_info": {
   "codemirror_mode": {
    "name": "ipython",
    "version": 3
   },
   "file_extension": ".py",
   "mimetype": "text/x-python",
   "name": "python",
   "nbconvert_exporter": "python",
   "pygments_lexer": "ipython3",
   "version": "3.11.5"
  }
 },
 "nbformat": 4,
 "nbformat_minor": 5
}
