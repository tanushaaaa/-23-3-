{
 "cells": [
  {
   "cell_type": "markdown",
   "id": "e8490d21",
   "metadata": {},
   "source": [
    "14 ВАРИАНТ"
   ]
  },
  {
   "cell_type": "markdown",
   "id": "071024ee",
   "metadata": {},
   "source": [
    "№35. Создайте двусвязный список для хранения информации о книгах в библиотеке. Каждый элемент списка должен содержать название книги, автора, год издания, количество экземпляров и список читателей, которые взяли эту книгу."
   ]
  },
  {
   "cell_type": "code",
   "execution_count": 5,
   "id": "9943747a",
   "metadata": {},
   "outputs": [
    {
     "name": "stdout",
     "output_type": "stream",
     "text": [
      "<__main__.DoublyLinkedList object at 0x000001FD36DB30A0>\n"
     ]
    }
   ],
   "source": [
    "class Node:\n",
    "    def __init__(self, data):\n",
    "        self.data = data\n",
    "        self.prev = None\n",
    "        self.next = None\n",
    "\n",
    "class DoublyLinkedList:\n",
    "    def __init__(self):\n",
    "        self.head = None\n",
    "\n",
    "    def append(self, data):\n",
    "        new_node = Node(data)\n",
    "        if self.head is None:\n",
    "            self.head = new_node\n",
    "        else:\n",
    "            current = self.head\n",
    "            while current.next:\n",
    "                current = current.next\n",
    "            current.next = new_node\n",
    "            new_node.prev = current\n",
    "\n",
    "library_books = DoublyLinkedList()\n",
    "\n",
    "book1 = {\"название\": \"Война и мир\", \"автор\": \"Лев Толстой\", \"год издания\": 1869, \"количество экземпляров\": 5, \"читатели\": [\"Иванов\", \"Петров\"]}\n",
    "book2 = {\"название\": \"Преступление и наказание\", \"автор\": \"Фёдор Достоевский\", \"год издания\": 1866, \"количество экземпляров\": 3, \"читатели\": [\"Сидоров\", \"Смирнов\"]}\n",
    "book3 = {\"название\": \"1984\", \"автор\": \"Джордж Оруэлл\", \"год издания\": 1949, \"количество экземпляров\": 2, \"читатели\": [\"Козлов\"]}\n",
    "\n",
    "library_books.append(book1)\n",
    "library_books.append(book2)\n",
    "library_books.append(book3)\n",
    "\n",
    "print(library_books)"
   ]
  },
  {
   "cell_type": "markdown",
   "id": "da8233e6",
   "metadata": {},
   "source": [
    "№36. Реализовать функцию, которая находит сумму всех элементов двусвязного списка, кроме первого и последнего."
   ]
  },
  {
   "cell_type": "code",
   "execution_count": 7,
   "id": "134e716b",
   "metadata": {},
   "outputs": [],
   "source": [
    "library = DoublyLinkedList()\n",
    "library.append(1)\n",
    "library.append(2)\n",
    "library.append(3)"
   ]
  },
  {
   "cell_type": "code",
   "execution_count": 8,
   "id": "037e6b90",
   "metadata": {},
   "outputs": [
    {
     "name": "stdout",
     "output_type": "stream",
     "text": [
      "Сумма всех элементов двусвязного списка, кроме первого и последнего: 2\n"
     ]
    }
   ],
   "source": [
    "def sum_except_first_last(doubly_linked_list):\n",
    "    if doubly_linked_list.head is None or doubly_linked_list.head.next is None:\n",
    "        return 0\n",
    "\n",
    "    current = doubly_linked_list.head.next\n",
    "    total_sum = 0\n",
    "\n",
    "    while current.next is not None:\n",
    "        total_sum += current.data\n",
    "        current = current.next\n",
    "\n",
    "    return total_sum\n",
    "\n",
    "total_sum = sum_except_first_last(library)\n",
    "print(\"Сумма всех элементов двусвязного списка, кроме первого и последнего:\", total_sum)\n"
   ]
  },
  {
   "cell_type": "markdown",
   "id": "2ef06b8f",
   "metadata": {},
   "source": [
    "№37. Реализовать функцию, которая проверяет, является ли циклический двусвязный список палиндромом."
   ]
  },
  {
   "cell_type": "code",
   "execution_count": 13,
   "id": "84689d59",
   "metadata": {},
   "outputs": [],
   "source": [
    "book = DoublyLinkedList()\n",
    "book.append(\"mom\")"
   ]
  },
  {
   "cell_type": "code",
   "execution_count": 14,
   "id": "a24ea010",
   "metadata": {},
   "outputs": [
    {
     "name": "stdout",
     "output_type": "stream",
     "text": [
      "Является ли циклический двусвязный список палиндромом: True\n"
     ]
    }
   ],
   "source": [
    "def is_circular_doubly_linked_list_palindrome(doubly_linked_list):\n",
    "    if doubly_linked_list.head is None:\n",
    "        return True\n",
    "\n",
    "    # Находим середину списка\n",
    "    slow = doubly_linked_list.head\n",
    "    fast = doubly_linked_list.head\n",
    "    while fast.next is not None and fast.next.next is not None:\n",
    "        slow = slow.next\n",
    "        fast = fast.next.next\n",
    "\n",
    "    # Разворачиваем вторую половину списка\n",
    "    prev = None\n",
    "    current = slow.next\n",
    "    while current is not None:\n",
    "        next_node = current.next\n",
    "        current.next = prev\n",
    "        current.prev = next_node\n",
    "        prev = current\n",
    "        current = next_node\n",
    "\n",
    "    # Сравниваем первую половину с развернутой второй половиной\n",
    "    left = doubly_linked_list.head\n",
    "    right = prev\n",
    "    while left is not None and right is not None:\n",
    "        if left.data != right.data:\n",
    "            return False\n",
    "        left = left.next\n",
    "        right = right.prev\n",
    "\n",
    "    return True\n",
    "\n",
    "result = is_circular_doubly_linked_list_palindrome(book)\n",
    "print(\"Является ли циклический двусвязный список палиндромом:\", result)\n"
   ]
  },
  {
   "cell_type": "code",
   "execution_count": null,
   "id": "258ef592",
   "metadata": {},
   "outputs": [],
   "source": []
  }
 ],
 "metadata": {
  "kernelspec": {
   "display_name": "Python 3 (ipykernel)",
   "language": "python",
   "name": "python3"
  },
  "language_info": {
   "codemirror_mode": {
    "name": "ipython",
    "version": 3
   },
   "file_extension": ".py",
   "mimetype": "text/x-python",
   "name": "python",
   "nbconvert_exporter": "python",
   "pygments_lexer": "ipython3",
   "version": "3.10.9"
  }
 },
 "nbformat": 4,
 "nbformat_minor": 5
}
