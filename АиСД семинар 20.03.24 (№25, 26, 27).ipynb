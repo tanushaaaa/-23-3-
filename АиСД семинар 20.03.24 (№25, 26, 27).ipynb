{
 "cells": [
  {
   "cell_type": "markdown",
   "id": "a56fcd51",
   "metadata": {},
   "source": [
    "ВАРИАНТ 14 "
   ]
  },
  {
   "cell_type": "markdown",
   "id": "c5279b75",
   "metadata": {},
   "source": [
    "Класс – трапеция. Методы – расчет площади и периметра трапеции. Поля – стороны трапеции, площадь и периметр."
   ]
  },
  {
   "cell_type": "code",
   "execution_count": 1,
   "id": "4228d728",
   "metadata": {},
   "outputs": [
    {
     "name": "stdout",
     "output_type": "stream",
     "text": [
      "Площадь трапеции: 90\n",
      "Периметр трапеции: 18\n"
     ]
    }
   ],
   "source": [
    "class Trapeze():\n",
    "    def __init__(self, a, b, c, d):\n",
    "        self.a = a # верхнее основание трапеции\n",
    "        self.b = b # нижнее основание трапеции\n",
    "        self.c = c # c, d - боковые стороны\n",
    "        self.d = d\n",
    "        self.square = None\n",
    "        self.perimeter = None\n",
    "    def cal_square(self): #площадь трапеции\n",
    "        self.square = ((self.a + self.b) // 2) * (self.c**2 - (((self.b - self.a)**2 + self.c**2 - self.d**2) // (2 * (self.b - self.a))))\n",
    "    def cal_perimeter(self): #периметр трапеции\n",
    "        self.perimeter = self.a + self.b + self.c + self.d\n",
    "sides = Trapeze(3, 4, 5, 6)\n",
    "sides.cal_square()\n",
    "sides.cal_perimeter()\n",
    "print(\"Площадь трапеции:\", sides.square)\n",
    "print(\"Периметр трапеции:\", sides.perimeter)"
   ]
  },
  {
   "cell_type": "markdown",
   "id": "d2411ffd",
   "metadata": {},
   "source": [
    "Опишите класс ATM. В классе задаются поля для хранения идентификационного номера банкомата, минимальной и максимальной сумм денег, которые позволено снять клиенту за один раз. Сумма денег, оставшаяся в банкомате, представляется шестью полями — номиналами российских рублей (10, 50, 100, 500, 1000, 5000), значениями которых является количество купюр данного достоинства. Включите в описание класса методы загрузки денег в банкомат и снятия определенной суммы денег, а также свойство, позволяющее вывести на экран сумму денег в банкомате в виде строки."
   ]
  },
  {
   "cell_type": "code",
   "execution_count": 10,
   "id": "ddd2d009",
   "metadata": {},
   "outputs": [
    {
     "name": "stdout",
     "output_type": "stream",
     "text": [
      "ATM Money:\n",
      "10 RUB: 10\n",
      "50 RUB: 20\n",
      "100 RUB: 30\n",
      "500 RUB: 40\n",
      "1000 RUB: 50\n",
      "5000 RUB: 60\n",
      "\n",
      "{1000: 1, 500: 1, 100: 1, 50: 1}\n",
      "\n",
      "ATM Money:\n",
      "10 RUB: 10\n",
      "50 RUB: 19\n",
      "100 RUB: 29\n",
      "500 RUB: 39\n",
      "1000 RUB: 49\n",
      "5000 RUB: 60\n",
      "\n"
     ]
    }
   ],
   "source": [
    "class ATM:\n",
    "    def __init__(self, number, min_sum, max_sum): # номер банкомата, минимальная и максимальная сумма денег\n",
    "        self.number = number\n",
    "        self.min_sum = min_sum\n",
    "        self.max_sum = max_sum\n",
    "        self.money = {10: 0, 50: 0, 100: 0, 500: 0, 1000: 0, 5000: 0} # сумма денег, оставшаяся в банкомате (6 ном.)\n",
    "        \n",
    "    # загрузка денег в банкомат \n",
    "    def load_money(self, denominations): \n",
    "        for denomination, count in denominations.items():\n",
    "            self.money[denomination] += count\n",
    "            \n",
    "    # снятие определенной суммы денег \n",
    "    def withdraw_money(self, amount):  \n",
    "        if amount < self.min_sum or amount > self.max_sum:\n",
    "            return \"Недействительная сумма вывода\"\n",
    "        \n",
    "        total_money = sum(denomination * count for denomination, count in self.money.items())\n",
    "        if amount > total_money:\n",
    "            return \"В банкомате недостаточно средств\"\n",
    "         \n",
    "        remaining_amount = amount\n",
    "        withdrawal = {}\n",
    "        for denomination in sorted(self.money.keys(), reverse=True):\n",
    "            count = min(remaining_amount // denomination, self.money[denomination])\n",
    "            if count > 0:\n",
    "                withdrawal[denomination] = count\n",
    "                remaining_amount -= count * denomination\n",
    "                self.money[denomination] -= count\n",
    "        \n",
    "        if remaining_amount == 0:\n",
    "            return withdrawal\n",
    "        else:\n",
    "            return \"Не удается вывести запрошенную сумму\"\n",
    "    \n",
    "    # Выводим сумму денег, оставшуюся в банкомате\n",
    "    @property # позволяет, при выполнении операции присваивания значения, самостоятельно выполнять вызов метода\n",
    "    def total_money(self):\n",
    "        total_str = \"ATM Money:\\n\"\n",
    "        for denomination, count in self.money.items():\n",
    "            total_str += f\"{denomination} RUB: {count}\\n\"\n",
    "        return total_str\n",
    "\n",
    "atm1 = ATM(\"12345\", 100, 10000)\n",
    "atm1.load_money({10: 10, 50: 20, 100: 30, 500: 40, 1000: 50, 5000: 60})\n",
    "print(atm1.total_money)\n",
    "print(atm1.withdraw_money(1650))\n",
    "print()\n",
    "print(atm1.total_money)\n"
   ]
  },
  {
   "cell_type": "markdown",
   "id": "e8e0a7b0",
   "metadata": {},
   "source": [
    "Создайте класс ПРОГРЕССИЯ с методами вычисления  i -го элемента прогрессии, её суммы и методом, выводящим сумму на экран. Создайте дочерние классы: АРИФМЕТИЧЕСКАЯ, ГЕОМЕТРИЧЕСКАЯ со своими методами вычисления. Создайте список  n  прогрессий и выведите сумму каждой из них экран."
   ]
  },
  {
   "cell_type": "code",
   "execution_count": 12,
   "id": "4f190682",
   "metadata": {},
   "outputs": [
    {
     "name": "stdout",
     "output_type": "stream",
     "text": [
      "Сумма арифметической прогрессии: 25\n",
      "Сумма геометрической прогрессии: 242.0\n"
     ]
    }
   ],
   "source": [
    "class Progression:\n",
    "    def __init__(self, first_term, common_difference): \n",
    "        self.first_term = first_term\n",
    "        self.common_difference = common_difference\n",
    "\n",
    "    def get_ith_element(self, i): # возвращает i-й элемент прогрессии\n",
    "        return self.first_term + (i - 1) * self.common_difference\n",
    "\n",
    "    def get_sum(self, n): # возвращает сумму первых n элементов прогрессии\n",
    "        return n * (2 * self.first_term + (n - 1) * self.common_difference) // 2\n",
    "\n",
    "    def print_sum(self, n):\n",
    "        print(f\"Сумма прогрессии: {self.get_sum(n)}\")\n",
    "\n",
    "\n",
    "class Arif_progression(Progression): # арифмитическая прогрессия \n",
    "    def get_ith_element(self, i):\n",
    "        return self.first_term + (i - 1) * self.common_difference\n",
    "\n",
    "    def get_sum(self, n):\n",
    "        return n * (2 * self.first_term + (n - 1) * self.common_difference) // 2\n",
    "\n",
    "    def print_sum(self, n):\n",
    "        print(f\"Сумма арифметической прогрессии: {self.get_sum(n)}\")\n",
    "\n",
    "\n",
    "class Geom_progression(Progression): # геометрическая прогрессия \n",
    "    def get_ith_element(self, i):\n",
    "        return self.first_term * (self.common_difference ** (i - 1))\n",
    "\n",
    "    def get_sum(self, n):\n",
    "        return self.first_term * (1 - self.common_difference ** n) / (1 - self.common_difference)\n",
    "\n",
    "    def print_sum(self, n):\n",
    "        print(f\"Сумма геометрической прогрессии: {self.get_sum(n)}\")\n",
    "\n",
    "\n",
    "progressions = [Arif_progression(1, 2), Geom_progression(2, 3)]\n",
    "\n",
    "for progression in progressions:\n",
    "    progression.print_sum(5)\n"
   ]
  },
  {
   "cell_type": "code",
   "execution_count": null,
   "id": "57785673",
   "metadata": {},
   "outputs": [],
   "source": []
  }
 ],
 "metadata": {
  "kernelspec": {
   "display_name": "Python 3 (ipykernel)",
   "language": "python",
   "name": "python3"
  },
  "language_info": {
   "codemirror_mode": {
    "name": "ipython",
    "version": 3
   },
   "file_extension": ".py",
   "mimetype": "text/x-python",
   "name": "python",
   "nbconvert_exporter": "python",
   "pygments_lexer": "ipython3",
   "version": "3.11.5"
  }
 },
 "nbformat": 4,
 "nbformat_minor": 5
}
