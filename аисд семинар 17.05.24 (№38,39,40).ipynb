{
 "cells": [
  {
   "cell_type": "markdown",
   "id": "b3ef0257-be2a-45e8-907a-b948af28fded",
   "metadata": {},
   "source": [
    "14 ВАРИАНТ"
   ]
  },
  {
   "cell_type": "markdown",
   "id": "39cda313-92e8-439f-b624-90f19d18b12a",
   "metadata": {},
   "source": [
    "№38. Необходимо отсортировать список фильмов по году выпуска и вывести результат на экран. В зависимости от переданного параметра отсортировать список фильмов по возрастанию или по убыванию года выпуска, используя алгоритмы сортировки: сортировку вставками, сортировку выбором и быструю сортировку. Сравнить время выполнения алгоритмов сортировки с помощью декоратора. Информация о фильмах хранится в файле."
   ]
  },
  {
   "cell_type": "code",
   "execution_count": null,
   "id": "cd72ffd6-2a4d-4373-aaa3-57ece04d2d1b",
   "metadata": {},
   "outputs": [],
   "source": [
    "import time\n",
    "\n",
    "class Movie:\n",
    "    def __init__(self, title, year):\n",
    "        self.title = title\n",
    "        self.year = year\n",
    "\n",
    "def read_movies_from_file(file_path): #читает информацию о фильмах из файла и создает список экземпляров класса Movie на основе этой информации\n",
    "    movies = []\n",
    "    with open(file_path, 'r') as file:\n",
    "        for line in file:\n",
    "            title, year = line.strip().split(',')\n",
    "            movies.append(Movie(title, int(year)))\n",
    "    return movies\n",
    "    \n",
    "#три алгоритма сортировки\n",
    "def insertion_sort(movies): #вставкой\n",
    "    for i in range(1, len(movies)):\n",
    "        key = movies[i]\n",
    "        j = i - 1\n",
    "        while j >= 0 and movies[j].year > key.year:\n",
    "            movies[j + 1] = movies[j]\n",
    "            j -= 1\n",
    "        movies[j + 1] = key\n",
    "\n",
    "def selection_sort(movies): #выбором\n",
    "    for i in range(len(movies)):\n",
    "        min_index = i\n",
    "        for j in range(i + 1, len(movies)):\n",
    "            if movies[j].year < movies[min_index].year:\n",
    "                min_index = j\n",
    "        movies[i], movies[min_index] = movies[min_index], movies[i]\n",
    "\n",
    "def quick_sort(movies): #быстрая сортировка\n",
    "    if len(movies) <= 1:\n",
    "        return movies\n",
    "    pivot = movies[len(movies) // 2].year\n",
    "    left = [movie for movie in movies if movie.year < pivot]\n",
    "    middle = [movie for movie in movies if movie.year == pivot]\n",
    "    right = [movie for movie in movies if movie.year > pivot]\n",
    "    return quick_sort(left) + middle + quick_sort(right)\n",
    "    \n",
    "def measure_time(func): #получить имя функции с помощью атрибута __name__\n",
    "    def wrapper(*args, **kwargs):\n",
    "        start_time = time.time()\n",
    "        result = func(*args, **kwargs)\n",
    "        end_time = time.time()\n",
    "        print(f\"Time taken by {func.__name__}: {end_time - start_time:.6f} seconds\")\n",
    "        return result\n",
    "    return wrapper\n",
    "\n",
    "# Чтение фильмов из файла\n",
    "movies = read_movies_from_file('movies.txt')\n",
    "\n",
    "# Сортировка фильмов по году выпуска\n",
    "@measure_time\n",
    "def sort_movies_by_year_insertion(movies):\n",
    "    insertion_sort(movies)\n",
    "\n",
    "@measure_time\n",
    "def sort_movies_by_year_selection(movies):\n",
    "    selection_sort(movies)\n",
    "\n",
    "@measure_time\n",
    "def sort_movies_by_year_quick(movies):\n",
    "    return quick_sort(movies)\n",
    "\n",
    "sort_movies_by_year_insertion(movies.copy())\n",
    "sort_movies_by_year_selection(movies.copy())\n",
    "sorted_movies_quick = sort_movies_by_year_quick(movies.copy())"
   ]
  },
  {
   "cell_type": "markdown",
   "id": "b8438a90-72bd-4eb7-b7e2-4485cfba1e0e",
   "metadata": {},
   "source": [
    "№39. Реализовать класс бинарного дерева. Написать функцию для нахождения всех путей от корня до листьев в бинарном дереве."
   ]
  },
  {
   "cell_type": "code",
   "execution_count": 1,
   "id": "50e0adac-6e62-4965-b08d-94b5c3d88f5b",
   "metadata": {},
   "outputs": [
    {
     "name": "stdout",
     "output_type": "stream",
     "text": [
      "[[1, 2, 4], [1, 2, 5], [1, 3]]\n"
     ]
    }
   ],
   "source": [
    "class Node:\n",
    "    def __init__(self, value):\n",
    "        self.value = value\n",
    "        self.left = None\n",
    "        self.right = None\n",
    "\n",
    "def find_paths(node, path, paths):\n",
    "    if node is None:\n",
    "        return\n",
    "    \n",
    "    path.append(node.value)\n",
    "    \n",
    "    if node.left is None and node.right is None:\n",
    "        paths.append(path.copy())\n",
    "    else:\n",
    "        find_paths(node.left, path, paths)\n",
    "        find_paths(node.right, path, paths)\n",
    "    \n",
    "    path.pop()\n",
    "\n",
    "def binary_tree_paths(root):\n",
    "    paths = []\n",
    "    find_paths(root, [], paths)\n",
    "    return paths\n",
    "\n",
    "root = Node(1)\n",
    "root.left = Node(2)\n",
    "root.right = Node(3)\n",
    "root.left.left = Node(4)\n",
    "root.left.right = Node(5)\n",
    "\n",
    "print(binary_tree_paths(root))\n"
   ]
  },
  {
   "cell_type": "raw",
   "id": "262ebc21-7bba-4b32-a503-d778ad78c453",
   "metadata": {},
   "source": [
    "№40. Разработайте систему управления автобусным расписанием. Каждый автобус имеет номер маршрута и время отправления. Реализовать структуру данных на основе двоичной кучи, которая будет поддерживать операции добавления автобуса и извлечения автобуса с наименьшим временем отправления."
   ]
  },
  {
   "cell_type": "code",
   "execution_count": 3,
   "id": "facb88cd-882a-45ef-86d9-f4415e5c72e9",
   "metadata": {},
   "outputs": [
    {
     "name": "stdout",
     "output_type": "stream",
     "text": [
      "Минимальное время отправления: 2022-01-01 08:00:00, номер маршрута: 1\n",
      "Минимальное время отправления: 2022-01-01 09:00:00, номер маршрута: 2\n"
     ]
    }
   ],
   "source": [
    "import heapq\n",
    "import datetime\n",
    "\n",
    "class Bus:\n",
    "    def __init__(self, route_number, departure_time):\n",
    "        self.route_number = route_number\n",
    "        self.departure_time = departure_time\n",
    "\n",
    "class BusSchedule:\n",
    "    def __init__(self):\n",
    "        self.buses = []\n",
    "\n",
    "    def add_bus(self, bus):\n",
    "        heapq.heappush(self.buses, (bus.departure_time, bus))\n",
    "\n",
    "    def extract_min_bus(self):\n",
    "        return heapq.heappop(self.buses)[1]\n",
    "\n",
    "    def get_min_bus(self):\n",
    "        return self.buses[0][1]\n",
    "\n",
    "    def is_empty(self):\n",
    "        return len(self.buses) == 0\n",
    "\n",
    "# Создание расписания автобусов\n",
    "schedule = BusSchedule()\n",
    "\n",
    "# Добавление автобусов в расписание\n",
    "schedule.add_bus(Bus(1, datetime.datetime(2022, 1, 1, 8, 0)))\n",
    "schedule.add_bus(Bus(2, datetime.datetime(2022, 1, 1, 9, 0)))\n",
    "schedule.add_bus(Bus(3, datetime.datetime(2022, 1, 1, 10, 0)))\n",
    "\n",
    "# Извлечение автобуса с наименьшим временем отправления\n",
    "min_bus = schedule.extract_min_bus()\n",
    "print(f\"Минимальное время отправления: {min_bus.departure_time}, номер маршрута: {min_bus.route_number}\")\n",
    "\n",
    "# Получение автобуса с наименьшим временем отправления без его удаления из расписания\n",
    "min_bus = schedule.get_min_bus()\n",
    "print(f\"Минимальное время отправления: {min_bus.departure_time}, номер маршрута: {min_bus.route_number}\")\n"
   ]
  },
  {
   "cell_type": "code",
   "execution_count": null,
   "id": "33671aca-92f2-4cb9-ac59-fd8be360694e",
   "metadata": {},
   "outputs": [],
   "source": []
  }
 ],
 "metadata": {
  "kernelspec": {
   "display_name": "Python 3 (ipykernel)",
   "language": "python",
   "name": "python3"
  },
  "language_info": {
   "codemirror_mode": {
    "name": "ipython",
    "version": 3
   },
   "file_extension": ".py",
   "mimetype": "text/x-python",
   "name": "python",
   "nbconvert_exporter": "python",
   "pygments_lexer": "ipython3",
   "version": "3.11.7"
  }
 },
 "nbformat": 4,
 "nbformat_minor": 5
}
